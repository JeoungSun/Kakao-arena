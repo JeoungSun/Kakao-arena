{
  "nbformat": 4,
  "nbformat_minor": 0,
  "metadata": {
    "colab": {
      "name": "Apple_Music_Model_for BPR/LMF.ipynb",
      "provenance": []
    },
    "kernelspec": {
      "name": "python3",
      "display_name": "Python 3"
    },
    "accelerator": "GPU",
    "widgets": {
      "application/vnd.jupyter.widget-state+json": {
        "3baecddc54e44ccea6d3f6eda3b90fc3": {
          "model_module": "@jupyter-widgets/controls",
          "model_name": "HBoxModel",
          "state": {
            "_view_name": "HBoxView",
            "_dom_classes": [],
            "_model_name": "HBoxModel",
            "_view_module": "@jupyter-widgets/controls",
            "_model_module_version": "1.5.0",
            "_view_count": null,
            "_view_module_version": "1.5.0",
            "box_style": "",
            "layout": "IPY_MODEL_450bb63f41fb47b8a533f332c194edba",
            "_model_module": "@jupyter-widgets/controls",
            "children": [
              "IPY_MODEL_3cf71c59c3974c4bbe9a693d67540dd2",
              "IPY_MODEL_bf01a88a33e64eeab0c2c35cacc4f72d"
            ]
          }
        },
        "450bb63f41fb47b8a533f332c194edba": {
          "model_module": "@jupyter-widgets/base",
          "model_name": "LayoutModel",
          "state": {
            "_view_name": "LayoutView",
            "grid_template_rows": null,
            "right": null,
            "justify_content": null,
            "_view_module": "@jupyter-widgets/base",
            "overflow": null,
            "_model_module_version": "1.2.0",
            "_view_count": null,
            "flex_flow": null,
            "width": null,
            "min_width": null,
            "border": null,
            "align_items": null,
            "bottom": null,
            "_model_module": "@jupyter-widgets/base",
            "top": null,
            "grid_column": null,
            "overflow_y": null,
            "overflow_x": null,
            "grid_auto_flow": null,
            "grid_area": null,
            "grid_template_columns": null,
            "flex": null,
            "_model_name": "LayoutModel",
            "justify_items": null,
            "grid_row": null,
            "max_height": null,
            "align_content": null,
            "visibility": null,
            "align_self": null,
            "height": null,
            "min_height": null,
            "padding": null,
            "grid_auto_rows": null,
            "grid_gap": null,
            "max_width": null,
            "order": null,
            "_view_module_version": "1.2.0",
            "grid_template_areas": null,
            "object_position": null,
            "object_fit": null,
            "grid_auto_columns": null,
            "margin": null,
            "display": null,
            "left": null
          }
        },
        "3cf71c59c3974c4bbe9a693d67540dd2": {
          "model_module": "@jupyter-widgets/controls",
          "model_name": "FloatProgressModel",
          "state": {
            "_view_name": "ProgressView",
            "style": "IPY_MODEL_35e911d67e18499caea78fc4a5108e07",
            "_dom_classes": [],
            "description": "100%",
            "_model_name": "FloatProgressModel",
            "bar_style": "success",
            "max": 115070,
            "_view_module": "@jupyter-widgets/controls",
            "_model_module_version": "1.5.0",
            "value": 115070,
            "_view_count": null,
            "_view_module_version": "1.5.0",
            "orientation": "horizontal",
            "min": 0,
            "description_tooltip": null,
            "_model_module": "@jupyter-widgets/controls",
            "layout": "IPY_MODEL_3480dd5386484e0facf38e5a912f9886"
          }
        },
        "bf01a88a33e64eeab0c2c35cacc4f72d": {
          "model_module": "@jupyter-widgets/controls",
          "model_name": "HTMLModel",
          "state": {
            "_view_name": "HTMLView",
            "style": "IPY_MODEL_2e95ebca256543e6b50229fca6ca6037",
            "_dom_classes": [],
            "description": "",
            "_model_name": "HTMLModel",
            "placeholder": "​",
            "_view_module": "@jupyter-widgets/controls",
            "_model_module_version": "1.5.0",
            "value": " 115070/115070 [38:01&lt;00:00, 50.43it/s]",
            "_view_count": null,
            "_view_module_version": "1.5.0",
            "description_tooltip": null,
            "_model_module": "@jupyter-widgets/controls",
            "layout": "IPY_MODEL_a45af486633646ea8da19fc10d146ccf"
          }
        },
        "35e911d67e18499caea78fc4a5108e07": {
          "model_module": "@jupyter-widgets/controls",
          "model_name": "ProgressStyleModel",
          "state": {
            "_view_name": "StyleView",
            "_model_name": "ProgressStyleModel",
            "description_width": "initial",
            "_view_module": "@jupyter-widgets/base",
            "_model_module_version": "1.5.0",
            "_view_count": null,
            "_view_module_version": "1.2.0",
            "bar_color": null,
            "_model_module": "@jupyter-widgets/controls"
          }
        },
        "3480dd5386484e0facf38e5a912f9886": {
          "model_module": "@jupyter-widgets/base",
          "model_name": "LayoutModel",
          "state": {
            "_view_name": "LayoutView",
            "grid_template_rows": null,
            "right": null,
            "justify_content": null,
            "_view_module": "@jupyter-widgets/base",
            "overflow": null,
            "_model_module_version": "1.2.0",
            "_view_count": null,
            "flex_flow": null,
            "width": null,
            "min_width": null,
            "border": null,
            "align_items": null,
            "bottom": null,
            "_model_module": "@jupyter-widgets/base",
            "top": null,
            "grid_column": null,
            "overflow_y": null,
            "overflow_x": null,
            "grid_auto_flow": null,
            "grid_area": null,
            "grid_template_columns": null,
            "flex": null,
            "_model_name": "LayoutModel",
            "justify_items": null,
            "grid_row": null,
            "max_height": null,
            "align_content": null,
            "visibility": null,
            "align_self": null,
            "height": null,
            "min_height": null,
            "padding": null,
            "grid_auto_rows": null,
            "grid_gap": null,
            "max_width": null,
            "order": null,
            "_view_module_version": "1.2.0",
            "grid_template_areas": null,
            "object_position": null,
            "object_fit": null,
            "grid_auto_columns": null,
            "margin": null,
            "display": null,
            "left": null
          }
        },
        "2e95ebca256543e6b50229fca6ca6037": {
          "model_module": "@jupyter-widgets/controls",
          "model_name": "DescriptionStyleModel",
          "state": {
            "_view_name": "StyleView",
            "_model_name": "DescriptionStyleModel",
            "description_width": "",
            "_view_module": "@jupyter-widgets/base",
            "_model_module_version": "1.5.0",
            "_view_count": null,
            "_view_module_version": "1.2.0",
            "_model_module": "@jupyter-widgets/controls"
          }
        },
        "a45af486633646ea8da19fc10d146ccf": {
          "model_module": "@jupyter-widgets/base",
          "model_name": "LayoutModel",
          "state": {
            "_view_name": "LayoutView",
            "grid_template_rows": null,
            "right": null,
            "justify_content": null,
            "_view_module": "@jupyter-widgets/base",
            "overflow": null,
            "_model_module_version": "1.2.0",
            "_view_count": null,
            "flex_flow": null,
            "width": null,
            "min_width": null,
            "border": null,
            "align_items": null,
            "bottom": null,
            "_model_module": "@jupyter-widgets/base",
            "top": null,
            "grid_column": null,
            "overflow_y": null,
            "overflow_x": null,
            "grid_auto_flow": null,
            "grid_area": null,
            "grid_template_columns": null,
            "flex": null,
            "_model_name": "LayoutModel",
            "justify_items": null,
            "grid_row": null,
            "max_height": null,
            "align_content": null,
            "visibility": null,
            "align_self": null,
            "height": null,
            "min_height": null,
            "padding": null,
            "grid_auto_rows": null,
            "grid_gap": null,
            "max_width": null,
            "order": null,
            "_view_module_version": "1.2.0",
            "grid_template_areas": null,
            "object_position": null,
            "object_fit": null,
            "grid_auto_columns": null,
            "margin": null,
            "display": null,
            "left": null
          }
        },
        "08288b97edb54927b19eb8322a8c4201": {
          "model_module": "@jupyter-widgets/controls",
          "model_name": "HBoxModel",
          "state": {
            "_view_name": "HBoxView",
            "_dom_classes": [],
            "_model_name": "HBoxModel",
            "_view_module": "@jupyter-widgets/controls",
            "_model_module_version": "1.5.0",
            "_view_count": null,
            "_view_module_version": "1.5.0",
            "box_style": "",
            "layout": "IPY_MODEL_7ec886eec6524159a5da4f747e706dc1",
            "_model_module": "@jupyter-widgets/controls",
            "children": [
              "IPY_MODEL_a5b8bd9c4dc14ec0b4419e8c07ef39f9",
              "IPY_MODEL_4337ef661cb548749e782d7b15dec06b"
            ]
          }
        },
        "7ec886eec6524159a5da4f747e706dc1": {
          "model_module": "@jupyter-widgets/base",
          "model_name": "LayoutModel",
          "state": {
            "_view_name": "LayoutView",
            "grid_template_rows": null,
            "right": null,
            "justify_content": null,
            "_view_module": "@jupyter-widgets/base",
            "overflow": null,
            "_model_module_version": "1.2.0",
            "_view_count": null,
            "flex_flow": null,
            "width": null,
            "min_width": null,
            "border": null,
            "align_items": null,
            "bottom": null,
            "_model_module": "@jupyter-widgets/base",
            "top": null,
            "grid_column": null,
            "overflow_y": null,
            "overflow_x": null,
            "grid_auto_flow": null,
            "grid_area": null,
            "grid_template_columns": null,
            "flex": null,
            "_model_name": "LayoutModel",
            "justify_items": null,
            "grid_row": null,
            "max_height": null,
            "align_content": null,
            "visibility": null,
            "align_self": null,
            "height": null,
            "min_height": null,
            "padding": null,
            "grid_auto_rows": null,
            "grid_gap": null,
            "max_width": null,
            "order": null,
            "_view_module_version": "1.2.0",
            "grid_template_areas": null,
            "object_position": null,
            "object_fit": null,
            "grid_auto_columns": null,
            "margin": null,
            "display": null,
            "left": null
          }
        },
        "a5b8bd9c4dc14ec0b4419e8c07ef39f9": {
          "model_module": "@jupyter-widgets/controls",
          "model_name": "FloatProgressModel",
          "state": {
            "_view_name": "ProgressView",
            "style": "IPY_MODEL_dd8b7b30a92f4d66be25b38046ffee74",
            "_dom_classes": [],
            "description": "100%",
            "_model_name": "FloatProgressModel",
            "bar_style": "success",
            "max": 10739,
            "_view_module": "@jupyter-widgets/controls",
            "_model_module_version": "1.5.0",
            "value": 10739,
            "_view_count": null,
            "_view_module_version": "1.5.0",
            "orientation": "horizontal",
            "min": 0,
            "description_tooltip": null,
            "_model_module": "@jupyter-widgets/controls",
            "layout": "IPY_MODEL_32333a8678924db6962937758e432dd6"
          }
        },
        "4337ef661cb548749e782d7b15dec06b": {
          "model_module": "@jupyter-widgets/controls",
          "model_name": "HTMLModel",
          "state": {
            "_view_name": "HTMLView",
            "style": "IPY_MODEL_4bcc43e91f994767b216f236d57d96d7",
            "_dom_classes": [],
            "description": "",
            "_model_name": "HTMLModel",
            "placeholder": "​",
            "_view_module": "@jupyter-widgets/controls",
            "_model_module_version": "1.5.0",
            "value": " 10739/10739 [20:41&lt;00:00,  8.65it/s]",
            "_view_count": null,
            "_view_module_version": "1.5.0",
            "description_tooltip": null,
            "_model_module": "@jupyter-widgets/controls",
            "layout": "IPY_MODEL_accd1123fea14f2a8b7efd42ab16cfb9"
          }
        },
        "dd8b7b30a92f4d66be25b38046ffee74": {
          "model_module": "@jupyter-widgets/controls",
          "model_name": "ProgressStyleModel",
          "state": {
            "_view_name": "StyleView",
            "_model_name": "ProgressStyleModel",
            "description_width": "initial",
            "_view_module": "@jupyter-widgets/base",
            "_model_module_version": "1.5.0",
            "_view_count": null,
            "_view_module_version": "1.2.0",
            "bar_color": null,
            "_model_module": "@jupyter-widgets/controls"
          }
        },
        "32333a8678924db6962937758e432dd6": {
          "model_module": "@jupyter-widgets/base",
          "model_name": "LayoutModel",
          "state": {
            "_view_name": "LayoutView",
            "grid_template_rows": null,
            "right": null,
            "justify_content": null,
            "_view_module": "@jupyter-widgets/base",
            "overflow": null,
            "_model_module_version": "1.2.0",
            "_view_count": null,
            "flex_flow": null,
            "width": null,
            "min_width": null,
            "border": null,
            "align_items": null,
            "bottom": null,
            "_model_module": "@jupyter-widgets/base",
            "top": null,
            "grid_column": null,
            "overflow_y": null,
            "overflow_x": null,
            "grid_auto_flow": null,
            "grid_area": null,
            "grid_template_columns": null,
            "flex": null,
            "_model_name": "LayoutModel",
            "justify_items": null,
            "grid_row": null,
            "max_height": null,
            "align_content": null,
            "visibility": null,
            "align_self": null,
            "height": null,
            "min_height": null,
            "padding": null,
            "grid_auto_rows": null,
            "grid_gap": null,
            "max_width": null,
            "order": null,
            "_view_module_version": "1.2.0",
            "grid_template_areas": null,
            "object_position": null,
            "object_fit": null,
            "grid_auto_columns": null,
            "margin": null,
            "display": null,
            "left": null
          }
        },
        "4bcc43e91f994767b216f236d57d96d7": {
          "model_module": "@jupyter-widgets/controls",
          "model_name": "DescriptionStyleModel",
          "state": {
            "_view_name": "StyleView",
            "_model_name": "DescriptionStyleModel",
            "description_width": "",
            "_view_module": "@jupyter-widgets/base",
            "_model_module_version": "1.5.0",
            "_view_count": null,
            "_view_module_version": "1.2.0",
            "_model_module": "@jupyter-widgets/controls"
          }
        },
        "accd1123fea14f2a8b7efd42ab16cfb9": {
          "model_module": "@jupyter-widgets/base",
          "model_name": "LayoutModel",
          "state": {
            "_view_name": "LayoutView",
            "grid_template_rows": null,
            "right": null,
            "justify_content": null,
            "_view_module": "@jupyter-widgets/base",
            "overflow": null,
            "_model_module_version": "1.2.0",
            "_view_count": null,
            "flex_flow": null,
            "width": null,
            "min_width": null,
            "border": null,
            "align_items": null,
            "bottom": null,
            "_model_module": "@jupyter-widgets/base",
            "top": null,
            "grid_column": null,
            "overflow_y": null,
            "overflow_x": null,
            "grid_auto_flow": null,
            "grid_area": null,
            "grid_template_columns": null,
            "flex": null,
            "_model_name": "LayoutModel",
            "justify_items": null,
            "grid_row": null,
            "max_height": null,
            "align_content": null,
            "visibility": null,
            "align_self": null,
            "height": null,
            "min_height": null,
            "padding": null,
            "grid_auto_rows": null,
            "grid_gap": null,
            "max_width": null,
            "order": null,
            "_view_module_version": "1.2.0",
            "grid_template_areas": null,
            "object_position": null,
            "object_fit": null,
            "grid_auto_columns": null,
            "margin": null,
            "display": null,
            "left": null
          }
        },
        "64881498b5e44bc5ab4f6ba6d7995bb2": {
          "model_module": "@jupyter-widgets/controls",
          "model_name": "HBoxModel",
          "state": {
            "_view_name": "HBoxView",
            "_dom_classes": [],
            "_model_name": "HBoxModel",
            "_view_module": "@jupyter-widgets/controls",
            "_model_module_version": "1.5.0",
            "_view_count": null,
            "_view_module_version": "1.5.0",
            "box_style": "",
            "layout": "IPY_MODEL_01ff11681733414da561ee0f1dbd849b",
            "_model_module": "@jupyter-widgets/controls",
            "children": [
              "IPY_MODEL_44bdb4ef48ed4072a031b8a7d520070b",
              "IPY_MODEL_08519612b8fc46d48837825d8d468316"
            ]
          }
        },
        "01ff11681733414da561ee0f1dbd849b": {
          "model_module": "@jupyter-widgets/base",
          "model_name": "LayoutModel",
          "state": {
            "_view_name": "LayoutView",
            "grid_template_rows": null,
            "right": null,
            "justify_content": null,
            "_view_module": "@jupyter-widgets/base",
            "overflow": null,
            "_model_module_version": "1.2.0",
            "_view_count": null,
            "flex_flow": null,
            "width": null,
            "min_width": null,
            "border": null,
            "align_items": null,
            "bottom": null,
            "_model_module": "@jupyter-widgets/base",
            "top": null,
            "grid_column": null,
            "overflow_y": null,
            "overflow_x": null,
            "grid_auto_flow": null,
            "grid_area": null,
            "grid_template_columns": null,
            "flex": null,
            "_model_name": "LayoutModel",
            "justify_items": null,
            "grid_row": null,
            "max_height": null,
            "align_content": null,
            "visibility": null,
            "align_self": null,
            "height": null,
            "min_height": null,
            "padding": null,
            "grid_auto_rows": null,
            "grid_gap": null,
            "max_width": null,
            "order": null,
            "_view_module_version": "1.2.0",
            "grid_template_areas": null,
            "object_position": null,
            "object_fit": null,
            "grid_auto_columns": null,
            "margin": null,
            "display": null,
            "left": null
          }
        },
        "44bdb4ef48ed4072a031b8a7d520070b": {
          "model_module": "@jupyter-widgets/controls",
          "model_name": "FloatProgressModel",
          "state": {
            "_view_name": "ProgressView",
            "style": "IPY_MODEL_fe4c77c7e42a45019e81a68dd0843d99",
            "_dom_classes": [],
            "description": "100%",
            "_model_name": "FloatProgressModel",
            "bar_style": "success",
            "max": 23015,
            "_view_module": "@jupyter-widgets/controls",
            "_model_module_version": "1.5.0",
            "value": 23015,
            "_view_count": null,
            "_view_module_version": "1.5.0",
            "orientation": "horizontal",
            "min": 0,
            "description_tooltip": null,
            "_model_module": "@jupyter-widgets/controls",
            "layout": "IPY_MODEL_c8fa328076ab4fc78b0fc9aae33b6b67"
          }
        },
        "08519612b8fc46d48837825d8d468316": {
          "model_module": "@jupyter-widgets/controls",
          "model_name": "HTMLModel",
          "state": {
            "_view_name": "HTMLView",
            "style": "IPY_MODEL_956be6ce9841450fa2452d7304cc13e8",
            "_dom_classes": [],
            "description": "",
            "_model_name": "HTMLModel",
            "placeholder": "​",
            "_view_module": "@jupyter-widgets/controls",
            "_model_module_version": "1.5.0",
            "value": " 23015/23015 [48:30&lt;00:00,  7.91it/s]",
            "_view_count": null,
            "_view_module_version": "1.5.0",
            "description_tooltip": null,
            "_model_module": "@jupyter-widgets/controls",
            "layout": "IPY_MODEL_e534f946d3e6434f89cea93dcabcb81c"
          }
        },
        "fe4c77c7e42a45019e81a68dd0843d99": {
          "model_module": "@jupyter-widgets/controls",
          "model_name": "ProgressStyleModel",
          "state": {
            "_view_name": "StyleView",
            "_model_name": "ProgressStyleModel",
            "description_width": "initial",
            "_view_module": "@jupyter-widgets/base",
            "_model_module_version": "1.5.0",
            "_view_count": null,
            "_view_module_version": "1.2.0",
            "bar_color": null,
            "_model_module": "@jupyter-widgets/controls"
          }
        },
        "c8fa328076ab4fc78b0fc9aae33b6b67": {
          "model_module": "@jupyter-widgets/base",
          "model_name": "LayoutModel",
          "state": {
            "_view_name": "LayoutView",
            "grid_template_rows": null,
            "right": null,
            "justify_content": null,
            "_view_module": "@jupyter-widgets/base",
            "overflow": null,
            "_model_module_version": "1.2.0",
            "_view_count": null,
            "flex_flow": null,
            "width": null,
            "min_width": null,
            "border": null,
            "align_items": null,
            "bottom": null,
            "_model_module": "@jupyter-widgets/base",
            "top": null,
            "grid_column": null,
            "overflow_y": null,
            "overflow_x": null,
            "grid_auto_flow": null,
            "grid_area": null,
            "grid_template_columns": null,
            "flex": null,
            "_model_name": "LayoutModel",
            "justify_items": null,
            "grid_row": null,
            "max_height": null,
            "align_content": null,
            "visibility": null,
            "align_self": null,
            "height": null,
            "min_height": null,
            "padding": null,
            "grid_auto_rows": null,
            "grid_gap": null,
            "max_width": null,
            "order": null,
            "_view_module_version": "1.2.0",
            "grid_template_areas": null,
            "object_position": null,
            "object_fit": null,
            "grid_auto_columns": null,
            "margin": null,
            "display": null,
            "left": null
          }
        },
        "956be6ce9841450fa2452d7304cc13e8": {
          "model_module": "@jupyter-widgets/controls",
          "model_name": "DescriptionStyleModel",
          "state": {
            "_view_name": "StyleView",
            "_model_name": "DescriptionStyleModel",
            "description_width": "",
            "_view_module": "@jupyter-widgets/base",
            "_model_module_version": "1.5.0",
            "_view_count": null,
            "_view_module_version": "1.2.0",
            "_model_module": "@jupyter-widgets/controls"
          }
        },
        "e534f946d3e6434f89cea93dcabcb81c": {
          "model_module": "@jupyter-widgets/base",
          "model_name": "LayoutModel",
          "state": {
            "_view_name": "LayoutView",
            "grid_template_rows": null,
            "right": null,
            "justify_content": null,
            "_view_module": "@jupyter-widgets/base",
            "overflow": null,
            "_model_module_version": "1.2.0",
            "_view_count": null,
            "flex_flow": null,
            "width": null,
            "min_width": null,
            "border": null,
            "align_items": null,
            "bottom": null,
            "_model_module": "@jupyter-widgets/base",
            "top": null,
            "grid_column": null,
            "overflow_y": null,
            "overflow_x": null,
            "grid_auto_flow": null,
            "grid_area": null,
            "grid_template_columns": null,
            "flex": null,
            "_model_name": "LayoutModel",
            "justify_items": null,
            "grid_row": null,
            "max_height": null,
            "align_content": null,
            "visibility": null,
            "align_self": null,
            "height": null,
            "min_height": null,
            "padding": null,
            "grid_auto_rows": null,
            "grid_gap": null,
            "max_width": null,
            "order": null,
            "_view_module_version": "1.2.0",
            "grid_template_areas": null,
            "object_position": null,
            "object_fit": null,
            "grid_auto_columns": null,
            "margin": null,
            "display": null,
            "left": null
          }
        },
        "19e7b9448614469fbaf7e78895dcde5c": {
          "model_module": "@jupyter-widgets/controls",
          "model_name": "HBoxModel",
          "state": {
            "_view_name": "HBoxView",
            "_dom_classes": [],
            "_model_name": "HBoxModel",
            "_view_module": "@jupyter-widgets/controls",
            "_model_module_version": "1.5.0",
            "_view_count": null,
            "_view_module_version": "1.5.0",
            "box_style": "",
            "layout": "IPY_MODEL_33450e585fb6467098c264302d55e64b",
            "_model_module": "@jupyter-widgets/controls",
            "children": [
              "IPY_MODEL_da0d5c4bd118414ebaff9dc686d070b7",
              "IPY_MODEL_bf42eecf9b8449d1a842cf2e77c1cdb5"
            ]
          }
        },
        "33450e585fb6467098c264302d55e64b": {
          "model_module": "@jupyter-widgets/base",
          "model_name": "LayoutModel",
          "state": {
            "_view_name": "LayoutView",
            "grid_template_rows": null,
            "right": null,
            "justify_content": null,
            "_view_module": "@jupyter-widgets/base",
            "overflow": null,
            "_model_module_version": "1.2.0",
            "_view_count": null,
            "flex_flow": null,
            "width": null,
            "min_width": null,
            "border": null,
            "align_items": null,
            "bottom": null,
            "_model_module": "@jupyter-widgets/base",
            "top": null,
            "grid_column": null,
            "overflow_y": null,
            "overflow_x": null,
            "grid_auto_flow": null,
            "grid_area": null,
            "grid_template_columns": null,
            "flex": null,
            "_model_name": "LayoutModel",
            "justify_items": null,
            "grid_row": null,
            "max_height": null,
            "align_content": null,
            "visibility": null,
            "align_self": null,
            "height": null,
            "min_height": null,
            "padding": null,
            "grid_auto_rows": null,
            "grid_gap": null,
            "max_width": null,
            "order": null,
            "_view_module_version": "1.2.0",
            "grid_template_areas": null,
            "object_position": null,
            "object_fit": null,
            "grid_auto_columns": null,
            "margin": null,
            "display": null,
            "left": null
          }
        },
        "da0d5c4bd118414ebaff9dc686d070b7": {
          "model_module": "@jupyter-widgets/controls",
          "model_name": "FloatProgressModel",
          "state": {
            "_view_name": "ProgressView",
            "style": "IPY_MODEL_b2f7cf85e3584be9a7f57b6919e1a51f",
            "_dom_classes": [],
            "description": "100%",
            "_model_name": "FloatProgressModel",
            "bar_style": "success",
            "max": 115070,
            "_view_module": "@jupyter-widgets/controls",
            "_model_module_version": "1.5.0",
            "value": 115070,
            "_view_count": null,
            "_view_module_version": "1.5.0",
            "orientation": "horizontal",
            "min": 0,
            "description_tooltip": null,
            "_model_module": "@jupyter-widgets/controls",
            "layout": "IPY_MODEL_9d1bac14f9a745ac9871ef5dd67c7843"
          }
        },
        "bf42eecf9b8449d1a842cf2e77c1cdb5": {
          "model_module": "@jupyter-widgets/controls",
          "model_name": "HTMLModel",
          "state": {
            "_view_name": "HTMLView",
            "style": "IPY_MODEL_153d07e4136c474d83dcb6fdb07a83cb",
            "_dom_classes": [],
            "description": "",
            "_model_name": "HTMLModel",
            "placeholder": "​",
            "_view_module": "@jupyter-widgets/controls",
            "_model_module_version": "1.5.0",
            "value": " 115070/115070 [02:19&lt;00:00, 824.72it/s]",
            "_view_count": null,
            "_view_module_version": "1.5.0",
            "description_tooltip": null,
            "_model_module": "@jupyter-widgets/controls",
            "layout": "IPY_MODEL_0b694042d7fd4c72b505573898c1ca44"
          }
        },
        "b2f7cf85e3584be9a7f57b6919e1a51f": {
          "model_module": "@jupyter-widgets/controls",
          "model_name": "ProgressStyleModel",
          "state": {
            "_view_name": "StyleView",
            "_model_name": "ProgressStyleModel",
            "description_width": "initial",
            "_view_module": "@jupyter-widgets/base",
            "_model_module_version": "1.5.0",
            "_view_count": null,
            "_view_module_version": "1.2.0",
            "bar_color": null,
            "_model_module": "@jupyter-widgets/controls"
          }
        },
        "9d1bac14f9a745ac9871ef5dd67c7843": {
          "model_module": "@jupyter-widgets/base",
          "model_name": "LayoutModel",
          "state": {
            "_view_name": "LayoutView",
            "grid_template_rows": null,
            "right": null,
            "justify_content": null,
            "_view_module": "@jupyter-widgets/base",
            "overflow": null,
            "_model_module_version": "1.2.0",
            "_view_count": null,
            "flex_flow": null,
            "width": null,
            "min_width": null,
            "border": null,
            "align_items": null,
            "bottom": null,
            "_model_module": "@jupyter-widgets/base",
            "top": null,
            "grid_column": null,
            "overflow_y": null,
            "overflow_x": null,
            "grid_auto_flow": null,
            "grid_area": null,
            "grid_template_columns": null,
            "flex": null,
            "_model_name": "LayoutModel",
            "justify_items": null,
            "grid_row": null,
            "max_height": null,
            "align_content": null,
            "visibility": null,
            "align_self": null,
            "height": null,
            "min_height": null,
            "padding": null,
            "grid_auto_rows": null,
            "grid_gap": null,
            "max_width": null,
            "order": null,
            "_view_module_version": "1.2.0",
            "grid_template_areas": null,
            "object_position": null,
            "object_fit": null,
            "grid_auto_columns": null,
            "margin": null,
            "display": null,
            "left": null
          }
        },
        "153d07e4136c474d83dcb6fdb07a83cb": {
          "model_module": "@jupyter-widgets/controls",
          "model_name": "DescriptionStyleModel",
          "state": {
            "_view_name": "StyleView",
            "_model_name": "DescriptionStyleModel",
            "description_width": "",
            "_view_module": "@jupyter-widgets/base",
            "_model_module_version": "1.5.0",
            "_view_count": null,
            "_view_module_version": "1.2.0",
            "_model_module": "@jupyter-widgets/controls"
          }
        },
        "0b694042d7fd4c72b505573898c1ca44": {
          "model_module": "@jupyter-widgets/base",
          "model_name": "LayoutModel",
          "state": {
            "_view_name": "LayoutView",
            "grid_template_rows": null,
            "right": null,
            "justify_content": null,
            "_view_module": "@jupyter-widgets/base",
            "overflow": null,
            "_model_module_version": "1.2.0",
            "_view_count": null,
            "flex_flow": null,
            "width": null,
            "min_width": null,
            "border": null,
            "align_items": null,
            "bottom": null,
            "_model_module": "@jupyter-widgets/base",
            "top": null,
            "grid_column": null,
            "overflow_y": null,
            "overflow_x": null,
            "grid_auto_flow": null,
            "grid_area": null,
            "grid_template_columns": null,
            "flex": null,
            "_model_name": "LayoutModel",
            "justify_items": null,
            "grid_row": null,
            "max_height": null,
            "align_content": null,
            "visibility": null,
            "align_self": null,
            "height": null,
            "min_height": null,
            "padding": null,
            "grid_auto_rows": null,
            "grid_gap": null,
            "max_width": null,
            "order": null,
            "_view_module_version": "1.2.0",
            "grid_template_areas": null,
            "object_position": null,
            "object_fit": null,
            "grid_auto_columns": null,
            "margin": null,
            "display": null,
            "left": null
          }
        },
        "4dbb4811238448ca9de13a79a5292c8d": {
          "model_module": "@jupyter-widgets/controls",
          "model_name": "HBoxModel",
          "state": {
            "_view_name": "HBoxView",
            "_dom_classes": [],
            "_model_name": "HBoxModel",
            "_view_module": "@jupyter-widgets/controls",
            "_model_module_version": "1.5.0",
            "_view_count": null,
            "_view_module_version": "1.5.0",
            "box_style": "",
            "layout": "IPY_MODEL_eeecfbc536d04fefb9b3bf25c92b8976",
            "_model_module": "@jupyter-widgets/controls",
            "children": [
              "IPY_MODEL_0afd57003a414b3ab43dee3b021b94e2",
              "IPY_MODEL_e8258cb8333e4c28901db938884dfc93"
            ]
          }
        },
        "eeecfbc536d04fefb9b3bf25c92b8976": {
          "model_module": "@jupyter-widgets/base",
          "model_name": "LayoutModel",
          "state": {
            "_view_name": "LayoutView",
            "grid_template_rows": null,
            "right": null,
            "justify_content": null,
            "_view_module": "@jupyter-widgets/base",
            "overflow": null,
            "_model_module_version": "1.2.0",
            "_view_count": null,
            "flex_flow": null,
            "width": null,
            "min_width": null,
            "border": null,
            "align_items": null,
            "bottom": null,
            "_model_module": "@jupyter-widgets/base",
            "top": null,
            "grid_column": null,
            "overflow_y": null,
            "overflow_x": null,
            "grid_auto_flow": null,
            "grid_area": null,
            "grid_template_columns": null,
            "flex": null,
            "_model_name": "LayoutModel",
            "justify_items": null,
            "grid_row": null,
            "max_height": null,
            "align_content": null,
            "visibility": null,
            "align_self": null,
            "height": null,
            "min_height": null,
            "padding": null,
            "grid_auto_rows": null,
            "grid_gap": null,
            "max_width": null,
            "order": null,
            "_view_module_version": "1.2.0",
            "grid_template_areas": null,
            "object_position": null,
            "object_fit": null,
            "grid_auto_columns": null,
            "margin": null,
            "display": null,
            "left": null
          }
        },
        "0afd57003a414b3ab43dee3b021b94e2": {
          "model_module": "@jupyter-widgets/controls",
          "model_name": "FloatProgressModel",
          "state": {
            "_view_name": "ProgressView",
            "style": "IPY_MODEL_10d7adf3b4d14feb951294bf616e86c6",
            "_dom_classes": [],
            "description": "100%",
            "_model_name": "FloatProgressModel",
            "bar_style": "success",
            "max": 23014,
            "_view_module": "@jupyter-widgets/controls",
            "_model_module_version": "1.5.0",
            "value": 23014,
            "_view_count": null,
            "_view_module_version": "1.5.0",
            "orientation": "horizontal",
            "min": 0,
            "description_tooltip": null,
            "_model_module": "@jupyter-widgets/controls",
            "layout": "IPY_MODEL_d20851bf8fe34349a3d545fdde450e0a"
          }
        },
        "e8258cb8333e4c28901db938884dfc93": {
          "model_module": "@jupyter-widgets/controls",
          "model_name": "HTMLModel",
          "state": {
            "_view_name": "HTMLView",
            "style": "IPY_MODEL_9a3c62a2bbe543a8bb8b365f640a6a9b",
            "_dom_classes": [],
            "description": "",
            "_model_name": "HTMLModel",
            "placeholder": "​",
            "_view_module": "@jupyter-widgets/controls",
            "_model_module_version": "1.5.0",
            "value": " 23014/23014 [00:15&lt;00:00, 1463.13it/s]",
            "_view_count": null,
            "_view_module_version": "1.5.0",
            "description_tooltip": null,
            "_model_module": "@jupyter-widgets/controls",
            "layout": "IPY_MODEL_74b34f639bf3449bb348f7e85a4266bf"
          }
        },
        "10d7adf3b4d14feb951294bf616e86c6": {
          "model_module": "@jupyter-widgets/controls",
          "model_name": "ProgressStyleModel",
          "state": {
            "_view_name": "StyleView",
            "_model_name": "ProgressStyleModel",
            "description_width": "initial",
            "_view_module": "@jupyter-widgets/base",
            "_model_module_version": "1.5.0",
            "_view_count": null,
            "_view_module_version": "1.2.0",
            "bar_color": null,
            "_model_module": "@jupyter-widgets/controls"
          }
        },
        "d20851bf8fe34349a3d545fdde450e0a": {
          "model_module": "@jupyter-widgets/base",
          "model_name": "LayoutModel",
          "state": {
            "_view_name": "LayoutView",
            "grid_template_rows": null,
            "right": null,
            "justify_content": null,
            "_view_module": "@jupyter-widgets/base",
            "overflow": null,
            "_model_module_version": "1.2.0",
            "_view_count": null,
            "flex_flow": null,
            "width": null,
            "min_width": null,
            "border": null,
            "align_items": null,
            "bottom": null,
            "_model_module": "@jupyter-widgets/base",
            "top": null,
            "grid_column": null,
            "overflow_y": null,
            "overflow_x": null,
            "grid_auto_flow": null,
            "grid_area": null,
            "grid_template_columns": null,
            "flex": null,
            "_model_name": "LayoutModel",
            "justify_items": null,
            "grid_row": null,
            "max_height": null,
            "align_content": null,
            "visibility": null,
            "align_self": null,
            "height": null,
            "min_height": null,
            "padding": null,
            "grid_auto_rows": null,
            "grid_gap": null,
            "max_width": null,
            "order": null,
            "_view_module_version": "1.2.0",
            "grid_template_areas": null,
            "object_position": null,
            "object_fit": null,
            "grid_auto_columns": null,
            "margin": null,
            "display": null,
            "left": null
          }
        },
        "9a3c62a2bbe543a8bb8b365f640a6a9b": {
          "model_module": "@jupyter-widgets/controls",
          "model_name": "DescriptionStyleModel",
          "state": {
            "_view_name": "StyleView",
            "_model_name": "DescriptionStyleModel",
            "description_width": "",
            "_view_module": "@jupyter-widgets/base",
            "_model_module_version": "1.5.0",
            "_view_count": null,
            "_view_module_version": "1.2.0",
            "_model_module": "@jupyter-widgets/controls"
          }
        },
        "74b34f639bf3449bb348f7e85a4266bf": {
          "model_module": "@jupyter-widgets/base",
          "model_name": "LayoutModel",
          "state": {
            "_view_name": "LayoutView",
            "grid_template_rows": null,
            "right": null,
            "justify_content": null,
            "_view_module": "@jupyter-widgets/base",
            "overflow": null,
            "_model_module_version": "1.2.0",
            "_view_count": null,
            "flex_flow": null,
            "width": null,
            "min_width": null,
            "border": null,
            "align_items": null,
            "bottom": null,
            "_model_module": "@jupyter-widgets/base",
            "top": null,
            "grid_column": null,
            "overflow_y": null,
            "overflow_x": null,
            "grid_auto_flow": null,
            "grid_area": null,
            "grid_template_columns": null,
            "flex": null,
            "_model_name": "LayoutModel",
            "justify_items": null,
            "grid_row": null,
            "max_height": null,
            "align_content": null,
            "visibility": null,
            "align_self": null,
            "height": null,
            "min_height": null,
            "padding": null,
            "grid_auto_rows": null,
            "grid_gap": null,
            "max_width": null,
            "order": null,
            "_view_module_version": "1.2.0",
            "grid_template_areas": null,
            "object_position": null,
            "object_fit": null,
            "grid_auto_columns": null,
            "margin": null,
            "display": null,
            "left": null
          }
        },
        "a5e94149e76643d6bb47a929c441b676": {
          "model_module": "@jupyter-widgets/controls",
          "model_name": "HBoxModel",
          "state": {
            "_view_name": "HBoxView",
            "_dom_classes": [],
            "_model_name": "HBoxModel",
            "_view_module": "@jupyter-widgets/controls",
            "_model_module_version": "1.5.0",
            "_view_count": null,
            "_view_module_version": "1.5.0",
            "box_style": "",
            "layout": "IPY_MODEL_46fbf57231264431877103312a85e06f",
            "_model_module": "@jupyter-widgets/controls",
            "children": [
              "IPY_MODEL_df9e9f260e5e4fa0a2229a4845d9b72b",
              "IPY_MODEL_ef3776011b9446979ef6a3991dbcee89"
            ]
          }
        },
        "46fbf57231264431877103312a85e06f": {
          "model_module": "@jupyter-widgets/base",
          "model_name": "LayoutModel",
          "state": {
            "_view_name": "LayoutView",
            "grid_template_rows": null,
            "right": null,
            "justify_content": null,
            "_view_module": "@jupyter-widgets/base",
            "overflow": null,
            "_model_module_version": "1.2.0",
            "_view_count": null,
            "flex_flow": null,
            "width": null,
            "min_width": null,
            "border": null,
            "align_items": null,
            "bottom": null,
            "_model_module": "@jupyter-widgets/base",
            "top": null,
            "grid_column": null,
            "overflow_y": null,
            "overflow_x": null,
            "grid_auto_flow": null,
            "grid_area": null,
            "grid_template_columns": null,
            "flex": null,
            "_model_name": "LayoutModel",
            "justify_items": null,
            "grid_row": null,
            "max_height": null,
            "align_content": null,
            "visibility": null,
            "align_self": null,
            "height": null,
            "min_height": null,
            "padding": null,
            "grid_auto_rows": null,
            "grid_gap": null,
            "max_width": null,
            "order": null,
            "_view_module_version": "1.2.0",
            "grid_template_areas": null,
            "object_position": null,
            "object_fit": null,
            "grid_auto_columns": null,
            "margin": null,
            "display": null,
            "left": null
          }
        },
        "df9e9f260e5e4fa0a2229a4845d9b72b": {
          "model_module": "@jupyter-widgets/controls",
          "model_name": "FloatProgressModel",
          "state": {
            "_view_name": "ProgressView",
            "style": "IPY_MODEL_28c85ce264e14db5b096da0029945f23",
            "_dom_classes": [],
            "description": "100%",
            "_model_name": "FloatProgressModel",
            "bar_style": "success",
            "max": 100,
            "_view_module": "@jupyter-widgets/controls",
            "_model_module_version": "1.5.0",
            "value": 100,
            "_view_count": null,
            "_view_module_version": "1.5.0",
            "orientation": "horizontal",
            "min": 0,
            "description_tooltip": null,
            "_model_module": "@jupyter-widgets/controls",
            "layout": "IPY_MODEL_4e8361ed08084662a776668c7f6e83d0"
          }
        },
        "ef3776011b9446979ef6a3991dbcee89": {
          "model_module": "@jupyter-widgets/controls",
          "model_name": "HTMLModel",
          "state": {
            "_view_name": "HTMLView",
            "style": "IPY_MODEL_eee4937efe66489c8efb003911ae1b19",
            "_dom_classes": [],
            "description": "",
            "_model_name": "HTMLModel",
            "placeholder": "​",
            "_view_module": "@jupyter-widgets/controls",
            "_model_module_version": "1.5.0",
            "value": " 100/100 [00:29&lt;00:00,  3.41it/s, correct=96.02%, skipped=4.43%]",
            "_view_count": null,
            "_view_module_version": "1.5.0",
            "description_tooltip": null,
            "_model_module": "@jupyter-widgets/controls",
            "layout": "IPY_MODEL_ecd31fa0478e482b8d0493bf9a221416"
          }
        },
        "28c85ce264e14db5b096da0029945f23": {
          "model_module": "@jupyter-widgets/controls",
          "model_name": "ProgressStyleModel",
          "state": {
            "_view_name": "StyleView",
            "_model_name": "ProgressStyleModel",
            "description_width": "initial",
            "_view_module": "@jupyter-widgets/base",
            "_model_module_version": "1.5.0",
            "_view_count": null,
            "_view_module_version": "1.2.0",
            "bar_color": null,
            "_model_module": "@jupyter-widgets/controls"
          }
        },
        "4e8361ed08084662a776668c7f6e83d0": {
          "model_module": "@jupyter-widgets/base",
          "model_name": "LayoutModel",
          "state": {
            "_view_name": "LayoutView",
            "grid_template_rows": null,
            "right": null,
            "justify_content": null,
            "_view_module": "@jupyter-widgets/base",
            "overflow": null,
            "_model_module_version": "1.2.0",
            "_view_count": null,
            "flex_flow": null,
            "width": null,
            "min_width": null,
            "border": null,
            "align_items": null,
            "bottom": null,
            "_model_module": "@jupyter-widgets/base",
            "top": null,
            "grid_column": null,
            "overflow_y": null,
            "overflow_x": null,
            "grid_auto_flow": null,
            "grid_area": null,
            "grid_template_columns": null,
            "flex": null,
            "_model_name": "LayoutModel",
            "justify_items": null,
            "grid_row": null,
            "max_height": null,
            "align_content": null,
            "visibility": null,
            "align_self": null,
            "height": null,
            "min_height": null,
            "padding": null,
            "grid_auto_rows": null,
            "grid_gap": null,
            "max_width": null,
            "order": null,
            "_view_module_version": "1.2.0",
            "grid_template_areas": null,
            "object_position": null,
            "object_fit": null,
            "grid_auto_columns": null,
            "margin": null,
            "display": null,
            "left": null
          }
        },
        "eee4937efe66489c8efb003911ae1b19": {
          "model_module": "@jupyter-widgets/controls",
          "model_name": "DescriptionStyleModel",
          "state": {
            "_view_name": "StyleView",
            "_model_name": "DescriptionStyleModel",
            "description_width": "",
            "_view_module": "@jupyter-widgets/base",
            "_model_module_version": "1.5.0",
            "_view_count": null,
            "_view_module_version": "1.2.0",
            "_model_module": "@jupyter-widgets/controls"
          }
        },
        "ecd31fa0478e482b8d0493bf9a221416": {
          "model_module": "@jupyter-widgets/base",
          "model_name": "LayoutModel",
          "state": {
            "_view_name": "LayoutView",
            "grid_template_rows": null,
            "right": null,
            "justify_content": null,
            "_view_module": "@jupyter-widgets/base",
            "overflow": null,
            "_model_module_version": "1.2.0",
            "_view_count": null,
            "flex_flow": null,
            "width": null,
            "min_width": null,
            "border": null,
            "align_items": null,
            "bottom": null,
            "_model_module": "@jupyter-widgets/base",
            "top": null,
            "grid_column": null,
            "overflow_y": null,
            "overflow_x": null,
            "grid_auto_flow": null,
            "grid_area": null,
            "grid_template_columns": null,
            "flex": null,
            "_model_name": "LayoutModel",
            "justify_items": null,
            "grid_row": null,
            "max_height": null,
            "align_content": null,
            "visibility": null,
            "align_self": null,
            "height": null,
            "min_height": null,
            "padding": null,
            "grid_auto_rows": null,
            "grid_gap": null,
            "max_width": null,
            "order": null,
            "_view_module_version": "1.2.0",
            "grid_template_areas": null,
            "object_position": null,
            "object_fit": null,
            "grid_auto_columns": null,
            "margin": null,
            "display": null,
            "left": null
          }
        },
        "5a272cb7899f4d46bdb3a134f8918a9d": {
          "model_module": "@jupyter-widgets/controls",
          "model_name": "HBoxModel",
          "state": {
            "_view_name": "HBoxView",
            "_dom_classes": [],
            "_model_name": "HBoxModel",
            "_view_module": "@jupyter-widgets/controls",
            "_model_module_version": "1.5.0",
            "_view_count": null,
            "_view_module_version": "1.5.0",
            "box_style": "",
            "layout": "IPY_MODEL_29259f83b6c444ef840d2de9e7829c86",
            "_model_module": "@jupyter-widgets/controls",
            "children": [
              "IPY_MODEL_4ca8853d086f46a8b4b5b4320d1f7bb4",
              "IPY_MODEL_adbc1c4f6c924a88bc6657a83680a155"
            ]
          }
        },
        "29259f83b6c444ef840d2de9e7829c86": {
          "model_module": "@jupyter-widgets/base",
          "model_name": "LayoutModel",
          "state": {
            "_view_name": "LayoutView",
            "grid_template_rows": null,
            "right": null,
            "justify_content": null,
            "_view_module": "@jupyter-widgets/base",
            "overflow": null,
            "_model_module_version": "1.2.0",
            "_view_count": null,
            "flex_flow": null,
            "width": null,
            "min_width": null,
            "border": null,
            "align_items": null,
            "bottom": null,
            "_model_module": "@jupyter-widgets/base",
            "top": null,
            "grid_column": null,
            "overflow_y": null,
            "overflow_x": null,
            "grid_auto_flow": null,
            "grid_area": null,
            "grid_template_columns": null,
            "flex": null,
            "_model_name": "LayoutModel",
            "justify_items": null,
            "grid_row": null,
            "max_height": null,
            "align_content": null,
            "visibility": null,
            "align_self": null,
            "height": null,
            "min_height": null,
            "padding": null,
            "grid_auto_rows": null,
            "grid_gap": null,
            "max_width": null,
            "order": null,
            "_view_module_version": "1.2.0",
            "grid_template_areas": null,
            "object_position": null,
            "object_fit": null,
            "grid_auto_columns": null,
            "margin": null,
            "display": null,
            "left": null
          }
        },
        "4ca8853d086f46a8b4b5b4320d1f7bb4": {
          "model_module": "@jupyter-widgets/controls",
          "model_name": "FloatProgressModel",
          "state": {
            "_view_name": "ProgressView",
            "style": "IPY_MODEL_06c51ee20a274f998381ee892f9c5394",
            "_dom_classes": [],
            "description": "100%",
            "_model_name": "FloatProgressModel",
            "bar_style": "success",
            "max": 23015,
            "_view_module": "@jupyter-widgets/controls",
            "_model_module_version": "1.5.0",
            "value": 23015,
            "_view_count": null,
            "_view_module_version": "1.5.0",
            "orientation": "horizontal",
            "min": 0,
            "description_tooltip": null,
            "_model_module": "@jupyter-widgets/controls",
            "layout": "IPY_MODEL_49fe55b74a7745a5b3083fc371a693a5"
          }
        },
        "adbc1c4f6c924a88bc6657a83680a155": {
          "model_module": "@jupyter-widgets/controls",
          "model_name": "HTMLModel",
          "state": {
            "_view_name": "HTMLView",
            "style": "IPY_MODEL_c290070f3de8405aba2f4792bd3f5963",
            "_dom_classes": [],
            "description": "",
            "_model_name": "HTMLModel",
            "placeholder": "​",
            "_view_module": "@jupyter-widgets/controls",
            "_model_module_version": "1.5.0",
            "value": " 23015/23015 [01:17&lt;00:00, 297.77it/s]",
            "_view_count": null,
            "_view_module_version": "1.5.0",
            "description_tooltip": null,
            "_model_module": "@jupyter-widgets/controls",
            "layout": "IPY_MODEL_3ec86b24bc284c64916bab7f623bb981"
          }
        },
        "06c51ee20a274f998381ee892f9c5394": {
          "model_module": "@jupyter-widgets/controls",
          "model_name": "ProgressStyleModel",
          "state": {
            "_view_name": "StyleView",
            "_model_name": "ProgressStyleModel",
            "description_width": "initial",
            "_view_module": "@jupyter-widgets/base",
            "_model_module_version": "1.5.0",
            "_view_count": null,
            "_view_module_version": "1.2.0",
            "bar_color": null,
            "_model_module": "@jupyter-widgets/controls"
          }
        },
        "49fe55b74a7745a5b3083fc371a693a5": {
          "model_module": "@jupyter-widgets/base",
          "model_name": "LayoutModel",
          "state": {
            "_view_name": "LayoutView",
            "grid_template_rows": null,
            "right": null,
            "justify_content": null,
            "_view_module": "@jupyter-widgets/base",
            "overflow": null,
            "_model_module_version": "1.2.0",
            "_view_count": null,
            "flex_flow": null,
            "width": null,
            "min_width": null,
            "border": null,
            "align_items": null,
            "bottom": null,
            "_model_module": "@jupyter-widgets/base",
            "top": null,
            "grid_column": null,
            "overflow_y": null,
            "overflow_x": null,
            "grid_auto_flow": null,
            "grid_area": null,
            "grid_template_columns": null,
            "flex": null,
            "_model_name": "LayoutModel",
            "justify_items": null,
            "grid_row": null,
            "max_height": null,
            "align_content": null,
            "visibility": null,
            "align_self": null,
            "height": null,
            "min_height": null,
            "padding": null,
            "grid_auto_rows": null,
            "grid_gap": null,
            "max_width": null,
            "order": null,
            "_view_module_version": "1.2.0",
            "grid_template_areas": null,
            "object_position": null,
            "object_fit": null,
            "grid_auto_columns": null,
            "margin": null,
            "display": null,
            "left": null
          }
        },
        "c290070f3de8405aba2f4792bd3f5963": {
          "model_module": "@jupyter-widgets/controls",
          "model_name": "DescriptionStyleModel",
          "state": {
            "_view_name": "StyleView",
            "_model_name": "DescriptionStyleModel",
            "description_width": "",
            "_view_module": "@jupyter-widgets/base",
            "_model_module_version": "1.5.0",
            "_view_count": null,
            "_view_module_version": "1.2.0",
            "_model_module": "@jupyter-widgets/controls"
          }
        },
        "3ec86b24bc284c64916bab7f623bb981": {
          "model_module": "@jupyter-widgets/base",
          "model_name": "LayoutModel",
          "state": {
            "_view_name": "LayoutView",
            "grid_template_rows": null,
            "right": null,
            "justify_content": null,
            "_view_module": "@jupyter-widgets/base",
            "overflow": null,
            "_model_module_version": "1.2.0",
            "_view_count": null,
            "flex_flow": null,
            "width": null,
            "min_width": null,
            "border": null,
            "align_items": null,
            "bottom": null,
            "_model_module": "@jupyter-widgets/base",
            "top": null,
            "grid_column": null,
            "overflow_y": null,
            "overflow_x": null,
            "grid_auto_flow": null,
            "grid_area": null,
            "grid_template_columns": null,
            "flex": null,
            "_model_name": "LayoutModel",
            "justify_items": null,
            "grid_row": null,
            "max_height": null,
            "align_content": null,
            "visibility": null,
            "align_self": null,
            "height": null,
            "min_height": null,
            "padding": null,
            "grid_auto_rows": null,
            "grid_gap": null,
            "max_width": null,
            "order": null,
            "_view_module_version": "1.2.0",
            "grid_template_areas": null,
            "object_position": null,
            "object_fit": null,
            "grid_auto_columns": null,
            "margin": null,
            "display": null,
            "left": null
          }
        },
        "09eff3ccf9554b3a9a75f42017b56c22": {
          "model_module": "@jupyter-widgets/controls",
          "model_name": "HBoxModel",
          "state": {
            "_view_name": "HBoxView",
            "_dom_classes": [],
            "_model_name": "HBoxModel",
            "_view_module": "@jupyter-widgets/controls",
            "_model_module_version": "1.5.0",
            "_view_count": null,
            "_view_module_version": "1.5.0",
            "box_style": "",
            "layout": "IPY_MODEL_fb605c782e38449692357790f9f2e57a",
            "_model_module": "@jupyter-widgets/controls",
            "children": [
              "IPY_MODEL_3e2faf8fb448448ca371fe7b3f60dd7e",
              "IPY_MODEL_b39d1a74fc3b457d8b9f30d7a770223e"
            ]
          }
        },
        "fb605c782e38449692357790f9f2e57a": {
          "model_module": "@jupyter-widgets/base",
          "model_name": "LayoutModel",
          "state": {
            "_view_name": "LayoutView",
            "grid_template_rows": null,
            "right": null,
            "justify_content": null,
            "_view_module": "@jupyter-widgets/base",
            "overflow": null,
            "_model_module_version": "1.2.0",
            "_view_count": null,
            "flex_flow": null,
            "width": null,
            "min_width": null,
            "border": null,
            "align_items": null,
            "bottom": null,
            "_model_module": "@jupyter-widgets/base",
            "top": null,
            "grid_column": null,
            "overflow_y": null,
            "overflow_x": null,
            "grid_auto_flow": null,
            "grid_area": null,
            "grid_template_columns": null,
            "flex": null,
            "_model_name": "LayoutModel",
            "justify_items": null,
            "grid_row": null,
            "max_height": null,
            "align_content": null,
            "visibility": null,
            "align_self": null,
            "height": null,
            "min_height": null,
            "padding": null,
            "grid_auto_rows": null,
            "grid_gap": null,
            "max_width": null,
            "order": null,
            "_view_module_version": "1.2.0",
            "grid_template_areas": null,
            "object_position": null,
            "object_fit": null,
            "grid_auto_columns": null,
            "margin": null,
            "display": null,
            "left": null
          }
        },
        "3e2faf8fb448448ca371fe7b3f60dd7e": {
          "model_module": "@jupyter-widgets/controls",
          "model_name": "FloatProgressModel",
          "state": {
            "_view_name": "ProgressView",
            "style": "IPY_MODEL_cf5228fcbe3c4fb6835e746ceed7c470",
            "_dom_classes": [],
            "description": "100%",
            "_model_name": "FloatProgressModel",
            "bar_style": "success",
            "max": 10740,
            "_view_module": "@jupyter-widgets/controls",
            "_model_module_version": "1.5.0",
            "value": 10740,
            "_view_count": null,
            "_view_module_version": "1.5.0",
            "orientation": "horizontal",
            "min": 0,
            "description_tooltip": null,
            "_model_module": "@jupyter-widgets/controls",
            "layout": "IPY_MODEL_a6683160dea04308b5efd04614938fa8"
          }
        },
        "b39d1a74fc3b457d8b9f30d7a770223e": {
          "model_module": "@jupyter-widgets/controls",
          "model_name": "HTMLModel",
          "state": {
            "_view_name": "HTMLView",
            "style": "IPY_MODEL_37a2982253dc454f93eaaaa53015e568",
            "_dom_classes": [],
            "description": "",
            "_model_name": "HTMLModel",
            "placeholder": "​",
            "_view_module": "@jupyter-widgets/controls",
            "_model_module_version": "1.5.0",
            "value": " 10740/10740 [03:58&lt;00:00, 44.95it/s]",
            "_view_count": null,
            "_view_module_version": "1.5.0",
            "description_tooltip": null,
            "_model_module": "@jupyter-widgets/controls",
            "layout": "IPY_MODEL_9b2a39997e744ef3b59ebf390cce7a17"
          }
        },
        "cf5228fcbe3c4fb6835e746ceed7c470": {
          "model_module": "@jupyter-widgets/controls",
          "model_name": "ProgressStyleModel",
          "state": {
            "_view_name": "StyleView",
            "_model_name": "ProgressStyleModel",
            "description_width": "initial",
            "_view_module": "@jupyter-widgets/base",
            "_model_module_version": "1.5.0",
            "_view_count": null,
            "_view_module_version": "1.2.0",
            "bar_color": null,
            "_model_module": "@jupyter-widgets/controls"
          }
        },
        "a6683160dea04308b5efd04614938fa8": {
          "model_module": "@jupyter-widgets/base",
          "model_name": "LayoutModel",
          "state": {
            "_view_name": "LayoutView",
            "grid_template_rows": null,
            "right": null,
            "justify_content": null,
            "_view_module": "@jupyter-widgets/base",
            "overflow": null,
            "_model_module_version": "1.2.0",
            "_view_count": null,
            "flex_flow": null,
            "width": null,
            "min_width": null,
            "border": null,
            "align_items": null,
            "bottom": null,
            "_model_module": "@jupyter-widgets/base",
            "top": null,
            "grid_column": null,
            "overflow_y": null,
            "overflow_x": null,
            "grid_auto_flow": null,
            "grid_area": null,
            "grid_template_columns": null,
            "flex": null,
            "_model_name": "LayoutModel",
            "justify_items": null,
            "grid_row": null,
            "max_height": null,
            "align_content": null,
            "visibility": null,
            "align_self": null,
            "height": null,
            "min_height": null,
            "padding": null,
            "grid_auto_rows": null,
            "grid_gap": null,
            "max_width": null,
            "order": null,
            "_view_module_version": "1.2.0",
            "grid_template_areas": null,
            "object_position": null,
            "object_fit": null,
            "grid_auto_columns": null,
            "margin": null,
            "display": null,
            "left": null
          }
        },
        "37a2982253dc454f93eaaaa53015e568": {
          "model_module": "@jupyter-widgets/controls",
          "model_name": "DescriptionStyleModel",
          "state": {
            "_view_name": "StyleView",
            "_model_name": "DescriptionStyleModel",
            "description_width": "",
            "_view_module": "@jupyter-widgets/base",
            "_model_module_version": "1.5.0",
            "_view_count": null,
            "_view_module_version": "1.2.0",
            "_model_module": "@jupyter-widgets/controls"
          }
        },
        "9b2a39997e744ef3b59ebf390cce7a17": {
          "model_module": "@jupyter-widgets/base",
          "model_name": "LayoutModel",
          "state": {
            "_view_name": "LayoutView",
            "grid_template_rows": null,
            "right": null,
            "justify_content": null,
            "_view_module": "@jupyter-widgets/base",
            "overflow": null,
            "_model_module_version": "1.2.0",
            "_view_count": null,
            "flex_flow": null,
            "width": null,
            "min_width": null,
            "border": null,
            "align_items": null,
            "bottom": null,
            "_model_module": "@jupyter-widgets/base",
            "top": null,
            "grid_column": null,
            "overflow_y": null,
            "overflow_x": null,
            "grid_auto_flow": null,
            "grid_area": null,
            "grid_template_columns": null,
            "flex": null,
            "_model_name": "LayoutModel",
            "justify_items": null,
            "grid_row": null,
            "max_height": null,
            "align_content": null,
            "visibility": null,
            "align_self": null,
            "height": null,
            "min_height": null,
            "padding": null,
            "grid_auto_rows": null,
            "grid_gap": null,
            "max_width": null,
            "order": null,
            "_view_module_version": "1.2.0",
            "grid_template_areas": null,
            "object_position": null,
            "object_fit": null,
            "grid_auto_columns": null,
            "margin": null,
            "display": null,
            "left": null
          }
        },
        "d442a862c89a4422a8234d559c53fdca": {
          "model_module": "@jupyter-widgets/controls",
          "model_name": "HBoxModel",
          "state": {
            "_view_name": "HBoxView",
            "_dom_classes": [],
            "_model_name": "HBoxModel",
            "_view_module": "@jupyter-widgets/controls",
            "_model_module_version": "1.5.0",
            "_view_count": null,
            "_view_module_version": "1.5.0",
            "box_style": "",
            "layout": "IPY_MODEL_90e992ec8c7940bc9ac6bfde1f24bcff",
            "_model_module": "@jupyter-widgets/controls",
            "children": [
              "IPY_MODEL_1aa130162c074c12a480d8f6c2f2aae5",
              "IPY_MODEL_cbfc15dd57824711b1a48129d87c7257"
            ]
          }
        },
        "90e992ec8c7940bc9ac6bfde1f24bcff": {
          "model_module": "@jupyter-widgets/base",
          "model_name": "LayoutModel",
          "state": {
            "_view_name": "LayoutView",
            "grid_template_rows": null,
            "right": null,
            "justify_content": null,
            "_view_module": "@jupyter-widgets/base",
            "overflow": null,
            "_model_module_version": "1.2.0",
            "_view_count": null,
            "flex_flow": null,
            "width": null,
            "min_width": null,
            "border": null,
            "align_items": null,
            "bottom": null,
            "_model_module": "@jupyter-widgets/base",
            "top": null,
            "grid_column": null,
            "overflow_y": null,
            "overflow_x": null,
            "grid_auto_flow": null,
            "grid_area": null,
            "grid_template_columns": null,
            "flex": null,
            "_model_name": "LayoutModel",
            "justify_items": null,
            "grid_row": null,
            "max_height": null,
            "align_content": null,
            "visibility": null,
            "align_self": null,
            "height": null,
            "min_height": null,
            "padding": null,
            "grid_auto_rows": null,
            "grid_gap": null,
            "max_width": null,
            "order": null,
            "_view_module_version": "1.2.0",
            "grid_template_areas": null,
            "object_position": null,
            "object_fit": null,
            "grid_auto_columns": null,
            "margin": null,
            "display": null,
            "left": null
          }
        },
        "1aa130162c074c12a480d8f6c2f2aae5": {
          "model_module": "@jupyter-widgets/controls",
          "model_name": "FloatProgressModel",
          "state": {
            "_view_name": "ProgressView",
            "style": "IPY_MODEL_c4f9e2f4c8744aaa8f78d9d969887e52",
            "_dom_classes": [],
            "description": "100%",
            "_model_name": "FloatProgressModel",
            "bar_style": "success",
            "max": 115070,
            "_view_module": "@jupyter-widgets/controls",
            "_model_module_version": "1.5.0",
            "value": 115070,
            "_view_count": null,
            "_view_module_version": "1.5.0",
            "orientation": "horizontal",
            "min": 0,
            "description_tooltip": null,
            "_model_module": "@jupyter-widgets/controls",
            "layout": "IPY_MODEL_9626ae3eb1334355ad52db94f707aa61"
          }
        },
        "cbfc15dd57824711b1a48129d87c7257": {
          "model_module": "@jupyter-widgets/controls",
          "model_name": "HTMLModel",
          "state": {
            "_view_name": "HTMLView",
            "style": "IPY_MODEL_c8c5abde972943948b316ef81c9df18b",
            "_dom_classes": [],
            "description": "",
            "_model_name": "HTMLModel",
            "placeholder": "​",
            "_view_module": "@jupyter-widgets/controls",
            "_model_module_version": "1.5.0",
            "value": " 115070/115070 [07:46&lt;00:00, 246.52it/s]",
            "_view_count": null,
            "_view_module_version": "1.5.0",
            "description_tooltip": null,
            "_model_module": "@jupyter-widgets/controls",
            "layout": "IPY_MODEL_be25c721563e49dbbfcd1cf650ed945f"
          }
        },
        "c4f9e2f4c8744aaa8f78d9d969887e52": {
          "model_module": "@jupyter-widgets/controls",
          "model_name": "ProgressStyleModel",
          "state": {
            "_view_name": "StyleView",
            "_model_name": "ProgressStyleModel",
            "description_width": "initial",
            "_view_module": "@jupyter-widgets/base",
            "_model_module_version": "1.5.0",
            "_view_count": null,
            "_view_module_version": "1.2.0",
            "bar_color": null,
            "_model_module": "@jupyter-widgets/controls"
          }
        },
        "9626ae3eb1334355ad52db94f707aa61": {
          "model_module": "@jupyter-widgets/base",
          "model_name": "LayoutModel",
          "state": {
            "_view_name": "LayoutView",
            "grid_template_rows": null,
            "right": null,
            "justify_content": null,
            "_view_module": "@jupyter-widgets/base",
            "overflow": null,
            "_model_module_version": "1.2.0",
            "_view_count": null,
            "flex_flow": null,
            "width": null,
            "min_width": null,
            "border": null,
            "align_items": null,
            "bottom": null,
            "_model_module": "@jupyter-widgets/base",
            "top": null,
            "grid_column": null,
            "overflow_y": null,
            "overflow_x": null,
            "grid_auto_flow": null,
            "grid_area": null,
            "grid_template_columns": null,
            "flex": null,
            "_model_name": "LayoutModel",
            "justify_items": null,
            "grid_row": null,
            "max_height": null,
            "align_content": null,
            "visibility": null,
            "align_self": null,
            "height": null,
            "min_height": null,
            "padding": null,
            "grid_auto_rows": null,
            "grid_gap": null,
            "max_width": null,
            "order": null,
            "_view_module_version": "1.2.0",
            "grid_template_areas": null,
            "object_position": null,
            "object_fit": null,
            "grid_auto_columns": null,
            "margin": null,
            "display": null,
            "left": null
          }
        },
        "c8c5abde972943948b316ef81c9df18b": {
          "model_module": "@jupyter-widgets/controls",
          "model_name": "DescriptionStyleModel",
          "state": {
            "_view_name": "StyleView",
            "_model_name": "DescriptionStyleModel",
            "description_width": "",
            "_view_module": "@jupyter-widgets/base",
            "_model_module_version": "1.5.0",
            "_view_count": null,
            "_view_module_version": "1.2.0",
            "_model_module": "@jupyter-widgets/controls"
          }
        },
        "be25c721563e49dbbfcd1cf650ed945f": {
          "model_module": "@jupyter-widgets/base",
          "model_name": "LayoutModel",
          "state": {
            "_view_name": "LayoutView",
            "grid_template_rows": null,
            "right": null,
            "justify_content": null,
            "_view_module": "@jupyter-widgets/base",
            "overflow": null,
            "_model_module_version": "1.2.0",
            "_view_count": null,
            "flex_flow": null,
            "width": null,
            "min_width": null,
            "border": null,
            "align_items": null,
            "bottom": null,
            "_model_module": "@jupyter-widgets/base",
            "top": null,
            "grid_column": null,
            "overflow_y": null,
            "overflow_x": null,
            "grid_auto_flow": null,
            "grid_area": null,
            "grid_template_columns": null,
            "flex": null,
            "_model_name": "LayoutModel",
            "justify_items": null,
            "grid_row": null,
            "max_height": null,
            "align_content": null,
            "visibility": null,
            "align_self": null,
            "height": null,
            "min_height": null,
            "padding": null,
            "grid_auto_rows": null,
            "grid_gap": null,
            "max_width": null,
            "order": null,
            "_view_module_version": "1.2.0",
            "grid_template_areas": null,
            "object_position": null,
            "object_fit": null,
            "grid_auto_columns": null,
            "margin": null,
            "display": null,
            "left": null
          }
        },
        "5135af17ceaa45a2877772fba5af962b": {
          "model_module": "@jupyter-widgets/controls",
          "model_name": "HBoxModel",
          "state": {
            "_view_name": "HBoxView",
            "_dom_classes": [],
            "_model_name": "HBoxModel",
            "_view_module": "@jupyter-widgets/controls",
            "_model_module_version": "1.5.0",
            "_view_count": null,
            "_view_module_version": "1.5.0",
            "box_style": "",
            "layout": "IPY_MODEL_d915c8f673954edb955009d073f3742f",
            "_model_module": "@jupyter-widgets/controls",
            "children": [
              "IPY_MODEL_502ff603a3c94600a28ec588bf88cc01",
              "IPY_MODEL_b8f28186163b4da89f8f21a057fb70ce"
            ]
          }
        },
        "d915c8f673954edb955009d073f3742f": {
          "model_module": "@jupyter-widgets/base",
          "model_name": "LayoutModel",
          "state": {
            "_view_name": "LayoutView",
            "grid_template_rows": null,
            "right": null,
            "justify_content": null,
            "_view_module": "@jupyter-widgets/base",
            "overflow": null,
            "_model_module_version": "1.2.0",
            "_view_count": null,
            "flex_flow": null,
            "width": null,
            "min_width": null,
            "border": null,
            "align_items": null,
            "bottom": null,
            "_model_module": "@jupyter-widgets/base",
            "top": null,
            "grid_column": null,
            "overflow_y": null,
            "overflow_x": null,
            "grid_auto_flow": null,
            "grid_area": null,
            "grid_template_columns": null,
            "flex": null,
            "_model_name": "LayoutModel",
            "justify_items": null,
            "grid_row": null,
            "max_height": null,
            "align_content": null,
            "visibility": null,
            "align_self": null,
            "height": null,
            "min_height": null,
            "padding": null,
            "grid_auto_rows": null,
            "grid_gap": null,
            "max_width": null,
            "order": null,
            "_view_module_version": "1.2.0",
            "grid_template_areas": null,
            "object_position": null,
            "object_fit": null,
            "grid_auto_columns": null,
            "margin": null,
            "display": null,
            "left": null
          }
        },
        "502ff603a3c94600a28ec588bf88cc01": {
          "model_module": "@jupyter-widgets/controls",
          "model_name": "FloatProgressModel",
          "state": {
            "_view_name": "ProgressView",
            "style": "IPY_MODEL_c49024cc6f1d4486bb1c01dec707af0a",
            "_dom_classes": [],
            "description": "100%",
            "_model_name": "FloatProgressModel",
            "bar_style": "success",
            "max": 10739,
            "_view_module": "@jupyter-widgets/controls",
            "_model_module_version": "1.5.0",
            "value": 10739,
            "_view_count": null,
            "_view_module_version": "1.5.0",
            "orientation": "horizontal",
            "min": 0,
            "description_tooltip": null,
            "_model_module": "@jupyter-widgets/controls",
            "layout": "IPY_MODEL_61d15781b26c40c5862df8bc642084aa"
          }
        },
        "b8f28186163b4da89f8f21a057fb70ce": {
          "model_module": "@jupyter-widgets/controls",
          "model_name": "HTMLModel",
          "state": {
            "_view_name": "HTMLView",
            "style": "IPY_MODEL_7074c52e18054c799b8a04c1c83495b8",
            "_dom_classes": [],
            "description": "",
            "_model_name": "HTMLModel",
            "placeholder": "​",
            "_view_module": "@jupyter-widgets/controls",
            "_model_module_version": "1.5.0",
            "value": " 10739/10739 [06:07&lt;00:00, 29.20it/s]",
            "_view_count": null,
            "_view_module_version": "1.5.0",
            "description_tooltip": null,
            "_model_module": "@jupyter-widgets/controls",
            "layout": "IPY_MODEL_457ab7cf8d41474cafe3957cb610f001"
          }
        },
        "c49024cc6f1d4486bb1c01dec707af0a": {
          "model_module": "@jupyter-widgets/controls",
          "model_name": "ProgressStyleModel",
          "state": {
            "_view_name": "StyleView",
            "_model_name": "ProgressStyleModel",
            "description_width": "initial",
            "_view_module": "@jupyter-widgets/base",
            "_model_module_version": "1.5.0",
            "_view_count": null,
            "_view_module_version": "1.2.0",
            "bar_color": null,
            "_model_module": "@jupyter-widgets/controls"
          }
        },
        "61d15781b26c40c5862df8bc642084aa": {
          "model_module": "@jupyter-widgets/base",
          "model_name": "LayoutModel",
          "state": {
            "_view_name": "LayoutView",
            "grid_template_rows": null,
            "right": null,
            "justify_content": null,
            "_view_module": "@jupyter-widgets/base",
            "overflow": null,
            "_model_module_version": "1.2.0",
            "_view_count": null,
            "flex_flow": null,
            "width": null,
            "min_width": null,
            "border": null,
            "align_items": null,
            "bottom": null,
            "_model_module": "@jupyter-widgets/base",
            "top": null,
            "grid_column": null,
            "overflow_y": null,
            "overflow_x": null,
            "grid_auto_flow": null,
            "grid_area": null,
            "grid_template_columns": null,
            "flex": null,
            "_model_name": "LayoutModel",
            "justify_items": null,
            "grid_row": null,
            "max_height": null,
            "align_content": null,
            "visibility": null,
            "align_self": null,
            "height": null,
            "min_height": null,
            "padding": null,
            "grid_auto_rows": null,
            "grid_gap": null,
            "max_width": null,
            "order": null,
            "_view_module_version": "1.2.0",
            "grid_template_areas": null,
            "object_position": null,
            "object_fit": null,
            "grid_auto_columns": null,
            "margin": null,
            "display": null,
            "left": null
          }
        },
        "7074c52e18054c799b8a04c1c83495b8": {
          "model_module": "@jupyter-widgets/controls",
          "model_name": "DescriptionStyleModel",
          "state": {
            "_view_name": "StyleView",
            "_model_name": "DescriptionStyleModel",
            "description_width": "",
            "_view_module": "@jupyter-widgets/base",
            "_model_module_version": "1.5.0",
            "_view_count": null,
            "_view_module_version": "1.2.0",
            "_model_module": "@jupyter-widgets/controls"
          }
        },
        "457ab7cf8d41474cafe3957cb610f001": {
          "model_module": "@jupyter-widgets/base",
          "model_name": "LayoutModel",
          "state": {
            "_view_name": "LayoutView",
            "grid_template_rows": null,
            "right": null,
            "justify_content": null,
            "_view_module": "@jupyter-widgets/base",
            "overflow": null,
            "_model_module_version": "1.2.0",
            "_view_count": null,
            "flex_flow": null,
            "width": null,
            "min_width": null,
            "border": null,
            "align_items": null,
            "bottom": null,
            "_model_module": "@jupyter-widgets/base",
            "top": null,
            "grid_column": null,
            "overflow_y": null,
            "overflow_x": null,
            "grid_auto_flow": null,
            "grid_area": null,
            "grid_template_columns": null,
            "flex": null,
            "_model_name": "LayoutModel",
            "justify_items": null,
            "grid_row": null,
            "max_height": null,
            "align_content": null,
            "visibility": null,
            "align_self": null,
            "height": null,
            "min_height": null,
            "padding": null,
            "grid_auto_rows": null,
            "grid_gap": null,
            "max_width": null,
            "order": null,
            "_view_module_version": "1.2.0",
            "grid_template_areas": null,
            "object_position": null,
            "object_fit": null,
            "grid_auto_columns": null,
            "margin": null,
            "display": null,
            "left": null
          }
        },
        "71a2a3237aab45ae8690f97800e37fc3": {
          "model_module": "@jupyter-widgets/controls",
          "model_name": "HBoxModel",
          "state": {
            "_view_name": "HBoxView",
            "_dom_classes": [],
            "_model_name": "HBoxModel",
            "_view_module": "@jupyter-widgets/controls",
            "_model_module_version": "1.5.0",
            "_view_count": null,
            "_view_module_version": "1.5.0",
            "box_style": "",
            "layout": "IPY_MODEL_799de7b4060b460a9768e2fc73afba46",
            "_model_module": "@jupyter-widgets/controls",
            "children": [
              "IPY_MODEL_54a6e5df3d2c470d870f0f6afc3da77d",
              "IPY_MODEL_b29caf1b8d3744ec83b27e9bc16cdcc7"
            ]
          }
        },
        "799de7b4060b460a9768e2fc73afba46": {
          "model_module": "@jupyter-widgets/base",
          "model_name": "LayoutModel",
          "state": {
            "_view_name": "LayoutView",
            "grid_template_rows": null,
            "right": null,
            "justify_content": null,
            "_view_module": "@jupyter-widgets/base",
            "overflow": null,
            "_model_module_version": "1.2.0",
            "_view_count": null,
            "flex_flow": null,
            "width": null,
            "min_width": null,
            "border": null,
            "align_items": null,
            "bottom": null,
            "_model_module": "@jupyter-widgets/base",
            "top": null,
            "grid_column": null,
            "overflow_y": null,
            "overflow_x": null,
            "grid_auto_flow": null,
            "grid_area": null,
            "grid_template_columns": null,
            "flex": null,
            "_model_name": "LayoutModel",
            "justify_items": null,
            "grid_row": null,
            "max_height": null,
            "align_content": null,
            "visibility": null,
            "align_self": null,
            "height": null,
            "min_height": null,
            "padding": null,
            "grid_auto_rows": null,
            "grid_gap": null,
            "max_width": null,
            "order": null,
            "_view_module_version": "1.2.0",
            "grid_template_areas": null,
            "object_position": null,
            "object_fit": null,
            "grid_auto_columns": null,
            "margin": null,
            "display": null,
            "left": null
          }
        },
        "54a6e5df3d2c470d870f0f6afc3da77d": {
          "model_module": "@jupyter-widgets/controls",
          "model_name": "FloatProgressModel",
          "state": {
            "_view_name": "ProgressView",
            "style": "IPY_MODEL_9cddfadbf445454388e60b2fa8a1ab6f",
            "_dom_classes": [],
            "description": "100%",
            "_model_name": "FloatProgressModel",
            "bar_style": "success",
            "max": 10740,
            "_view_module": "@jupyter-widgets/controls",
            "_model_module_version": "1.5.0",
            "value": 10740,
            "_view_count": null,
            "_view_module_version": "1.5.0",
            "orientation": "horizontal",
            "min": 0,
            "description_tooltip": null,
            "_model_module": "@jupyter-widgets/controls",
            "layout": "IPY_MODEL_93de643db36f4ab1a7d63ebcfea1666c"
          }
        },
        "b29caf1b8d3744ec83b27e9bc16cdcc7": {
          "model_module": "@jupyter-widgets/controls",
          "model_name": "HTMLModel",
          "state": {
            "_view_name": "HTMLView",
            "style": "IPY_MODEL_70397804dd544c9484b5ffbd602ac034",
            "_dom_classes": [],
            "description": "",
            "_model_name": "HTMLModel",
            "placeholder": "​",
            "_view_module": "@jupyter-widgets/controls",
            "_model_module_version": "1.5.0",
            "value": " 10740/10740 [00:15&lt;00:00, 706.23it/s]",
            "_view_count": null,
            "_view_module_version": "1.5.0",
            "description_tooltip": null,
            "_model_module": "@jupyter-widgets/controls",
            "layout": "IPY_MODEL_9f9cdb3896be4d919a876547a4456925"
          }
        },
        "9cddfadbf445454388e60b2fa8a1ab6f": {
          "model_module": "@jupyter-widgets/controls",
          "model_name": "ProgressStyleModel",
          "state": {
            "_view_name": "StyleView",
            "_model_name": "ProgressStyleModel",
            "description_width": "initial",
            "_view_module": "@jupyter-widgets/base",
            "_model_module_version": "1.5.0",
            "_view_count": null,
            "_view_module_version": "1.2.0",
            "bar_color": null,
            "_model_module": "@jupyter-widgets/controls"
          }
        },
        "93de643db36f4ab1a7d63ebcfea1666c": {
          "model_module": "@jupyter-widgets/base",
          "model_name": "LayoutModel",
          "state": {
            "_view_name": "LayoutView",
            "grid_template_rows": null,
            "right": null,
            "justify_content": null,
            "_view_module": "@jupyter-widgets/base",
            "overflow": null,
            "_model_module_version": "1.2.0",
            "_view_count": null,
            "flex_flow": null,
            "width": null,
            "min_width": null,
            "border": null,
            "align_items": null,
            "bottom": null,
            "_model_module": "@jupyter-widgets/base",
            "top": null,
            "grid_column": null,
            "overflow_y": null,
            "overflow_x": null,
            "grid_auto_flow": null,
            "grid_area": null,
            "grid_template_columns": null,
            "flex": null,
            "_model_name": "LayoutModel",
            "justify_items": null,
            "grid_row": null,
            "max_height": null,
            "align_content": null,
            "visibility": null,
            "align_self": null,
            "height": null,
            "min_height": null,
            "padding": null,
            "grid_auto_rows": null,
            "grid_gap": null,
            "max_width": null,
            "order": null,
            "_view_module_version": "1.2.0",
            "grid_template_areas": null,
            "object_position": null,
            "object_fit": null,
            "grid_auto_columns": null,
            "margin": null,
            "display": null,
            "left": null
          }
        },
        "70397804dd544c9484b5ffbd602ac034": {
          "model_module": "@jupyter-widgets/controls",
          "model_name": "DescriptionStyleModel",
          "state": {
            "_view_name": "StyleView",
            "_model_name": "DescriptionStyleModel",
            "description_width": "",
            "_view_module": "@jupyter-widgets/base",
            "_model_module_version": "1.5.0",
            "_view_count": null,
            "_view_module_version": "1.2.0",
            "_model_module": "@jupyter-widgets/controls"
          }
        },
        "9f9cdb3896be4d919a876547a4456925": {
          "model_module": "@jupyter-widgets/base",
          "model_name": "LayoutModel",
          "state": {
            "_view_name": "LayoutView",
            "grid_template_rows": null,
            "right": null,
            "justify_content": null,
            "_view_module": "@jupyter-widgets/base",
            "overflow": null,
            "_model_module_version": "1.2.0",
            "_view_count": null,
            "flex_flow": null,
            "width": null,
            "min_width": null,
            "border": null,
            "align_items": null,
            "bottom": null,
            "_model_module": "@jupyter-widgets/base",
            "top": null,
            "grid_column": null,
            "overflow_y": null,
            "overflow_x": null,
            "grid_auto_flow": null,
            "grid_area": null,
            "grid_template_columns": null,
            "flex": null,
            "_model_name": "LayoutModel",
            "justify_items": null,
            "grid_row": null,
            "max_height": null,
            "align_content": null,
            "visibility": null,
            "align_self": null,
            "height": null,
            "min_height": null,
            "padding": null,
            "grid_auto_rows": null,
            "grid_gap": null,
            "max_width": null,
            "order": null,
            "_view_module_version": "1.2.0",
            "grid_template_areas": null,
            "object_position": null,
            "object_fit": null,
            "grid_auto_columns": null,
            "margin": null,
            "display": null,
            "left": null
          }
        },
        "29acd45322354688aaaf78d82f4c9350": {
          "model_module": "@jupyter-widgets/controls",
          "model_name": "HBoxModel",
          "state": {
            "_view_name": "HBoxView",
            "_dom_classes": [],
            "_model_name": "HBoxModel",
            "_view_module": "@jupyter-widgets/controls",
            "_model_module_version": "1.5.0",
            "_view_count": null,
            "_view_module_version": "1.5.0",
            "box_style": "",
            "layout": "IPY_MODEL_39828136f35b43ff8928e59e7b198f73",
            "_model_module": "@jupyter-widgets/controls",
            "children": [
              "IPY_MODEL_451eacfeb2f243c4a27c246f332cee3a",
              "IPY_MODEL_6e38f14e533f4860ae3282adb105c63b"
            ]
          }
        },
        "39828136f35b43ff8928e59e7b198f73": {
          "model_module": "@jupyter-widgets/base",
          "model_name": "LayoutModel",
          "state": {
            "_view_name": "LayoutView",
            "grid_template_rows": null,
            "right": null,
            "justify_content": null,
            "_view_module": "@jupyter-widgets/base",
            "overflow": null,
            "_model_module_version": "1.2.0",
            "_view_count": null,
            "flex_flow": null,
            "width": null,
            "min_width": null,
            "border": null,
            "align_items": null,
            "bottom": null,
            "_model_module": "@jupyter-widgets/base",
            "top": null,
            "grid_column": null,
            "overflow_y": null,
            "overflow_x": null,
            "grid_auto_flow": null,
            "grid_area": null,
            "grid_template_columns": null,
            "flex": null,
            "_model_name": "LayoutModel",
            "justify_items": null,
            "grid_row": null,
            "max_height": null,
            "align_content": null,
            "visibility": null,
            "align_self": null,
            "height": null,
            "min_height": null,
            "padding": null,
            "grid_auto_rows": null,
            "grid_gap": null,
            "max_width": null,
            "order": null,
            "_view_module_version": "1.2.0",
            "grid_template_areas": null,
            "object_position": null,
            "object_fit": null,
            "grid_auto_columns": null,
            "margin": null,
            "display": null,
            "left": null
          }
        },
        "451eacfeb2f243c4a27c246f332cee3a": {
          "model_module": "@jupyter-widgets/controls",
          "model_name": "FloatProgressModel",
          "state": {
            "_view_name": "ProgressView",
            "style": "IPY_MODEL_8ae792b44f864c758eddcc442a2524d1",
            "_dom_classes": [],
            "description": "",
            "_model_name": "FloatProgressModel",
            "bar_style": "success",
            "max": 1,
            "_view_module": "@jupyter-widgets/controls",
            "_model_module_version": "1.5.0",
            "value": 1,
            "_view_count": null,
            "_view_module_version": "1.5.0",
            "orientation": "horizontal",
            "min": 0,
            "description_tooltip": null,
            "_model_module": "@jupyter-widgets/controls",
            "layout": "IPY_MODEL_03c1332189b54ee0b131a79eb4f6da7c"
          }
        },
        "6e38f14e533f4860ae3282adb105c63b": {
          "model_module": "@jupyter-widgets/controls",
          "model_name": "HTMLModel",
          "state": {
            "_view_name": "HTMLView",
            "style": "IPY_MODEL_5f567e8a8d314605829be27c71079f1b",
            "_dom_classes": [],
            "description": "",
            "_model_name": "HTMLModel",
            "placeholder": "​",
            "_view_module": "@jupyter-widgets/controls",
            "_model_module_version": "1.5.0",
            "value": " 10740/? [00:00&lt;00:00, 83379.28it/s]",
            "_view_count": null,
            "_view_module_version": "1.5.0",
            "description_tooltip": null,
            "_model_module": "@jupyter-widgets/controls",
            "layout": "IPY_MODEL_79f96867893b403c90046d46602b7e69"
          }
        },
        "8ae792b44f864c758eddcc442a2524d1": {
          "model_module": "@jupyter-widgets/controls",
          "model_name": "ProgressStyleModel",
          "state": {
            "_view_name": "StyleView",
            "_model_name": "ProgressStyleModel",
            "description_width": "initial",
            "_view_module": "@jupyter-widgets/base",
            "_model_module_version": "1.5.0",
            "_view_count": null,
            "_view_module_version": "1.2.0",
            "bar_color": null,
            "_model_module": "@jupyter-widgets/controls"
          }
        },
        "03c1332189b54ee0b131a79eb4f6da7c": {
          "model_module": "@jupyter-widgets/base",
          "model_name": "LayoutModel",
          "state": {
            "_view_name": "LayoutView",
            "grid_template_rows": null,
            "right": null,
            "justify_content": null,
            "_view_module": "@jupyter-widgets/base",
            "overflow": null,
            "_model_module_version": "1.2.0",
            "_view_count": null,
            "flex_flow": null,
            "width": null,
            "min_width": null,
            "border": null,
            "align_items": null,
            "bottom": null,
            "_model_module": "@jupyter-widgets/base",
            "top": null,
            "grid_column": null,
            "overflow_y": null,
            "overflow_x": null,
            "grid_auto_flow": null,
            "grid_area": null,
            "grid_template_columns": null,
            "flex": null,
            "_model_name": "LayoutModel",
            "justify_items": null,
            "grid_row": null,
            "max_height": null,
            "align_content": null,
            "visibility": null,
            "align_self": null,
            "height": null,
            "min_height": null,
            "padding": null,
            "grid_auto_rows": null,
            "grid_gap": null,
            "max_width": null,
            "order": null,
            "_view_module_version": "1.2.0",
            "grid_template_areas": null,
            "object_position": null,
            "object_fit": null,
            "grid_auto_columns": null,
            "margin": null,
            "display": null,
            "left": null
          }
        },
        "5f567e8a8d314605829be27c71079f1b": {
          "model_module": "@jupyter-widgets/controls",
          "model_name": "DescriptionStyleModel",
          "state": {
            "_view_name": "StyleView",
            "_model_name": "DescriptionStyleModel",
            "description_width": "",
            "_view_module": "@jupyter-widgets/base",
            "_model_module_version": "1.5.0",
            "_view_count": null,
            "_view_module_version": "1.2.0",
            "_model_module": "@jupyter-widgets/controls"
          }
        },
        "79f96867893b403c90046d46602b7e69": {
          "model_module": "@jupyter-widgets/base",
          "model_name": "LayoutModel",
          "state": {
            "_view_name": "LayoutView",
            "grid_template_rows": null,
            "right": null,
            "justify_content": null,
            "_view_module": "@jupyter-widgets/base",
            "overflow": null,
            "_model_module_version": "1.2.0",
            "_view_count": null,
            "flex_flow": null,
            "width": null,
            "min_width": null,
            "border": null,
            "align_items": null,
            "bottom": null,
            "_model_module": "@jupyter-widgets/base",
            "top": null,
            "grid_column": null,
            "overflow_y": null,
            "overflow_x": null,
            "grid_auto_flow": null,
            "grid_area": null,
            "grid_template_columns": null,
            "flex": null,
            "_model_name": "LayoutModel",
            "justify_items": null,
            "grid_row": null,
            "max_height": null,
            "align_content": null,
            "visibility": null,
            "align_self": null,
            "height": null,
            "min_height": null,
            "padding": null,
            "grid_auto_rows": null,
            "grid_gap": null,
            "max_width": null,
            "order": null,
            "_view_module_version": "1.2.0",
            "grid_template_areas": null,
            "object_position": null,
            "object_fit": null,
            "grid_auto_columns": null,
            "margin": null,
            "display": null,
            "left": null
          }
        }
      }
    }
  },
  "cells": [
    {
      "cell_type": "markdown",
      "metadata": {
        "id": "Cey_OUW5wSlb",
        "colab_type": "text"
      },
      "source": [
        "데이터 로드"
      ]
    },
    {
      "cell_type": "markdown",
      "metadata": {
        "id": "yz5CXgcJXO6Y",
        "colab_type": "text"
      },
      "source": [
        "implicit 라이브러리 버전 0.4.0만 쓸 것. 상위 버전에선 변수 할당 오류가 일어나며, 해결할 수 없음 "
      ]
    },
    {
      "cell_type": "code",
      "metadata": {
        "id": "QyGbatDOJYg8",
        "colab_type": "code",
        "colab": {
          "base_uri": "https://localhost:8080/",
          "height": 258
        },
        "outputId": "3468da51-14ea-4952-e704-3e6395c56216"
      },
      "source": [
        "!pip install implicit==0.4.0"
      ],
      "execution_count": 1,
      "outputs": [
        {
          "output_type": "stream",
          "text": [
            "Collecting implicit==0.4.0\n",
            "\u001b[?25l  Downloading https://files.pythonhosted.org/packages/c4/4d/47e8d8c9966a8aa5aa66de5bdd1eb608dee9b7b9305561f179c6249510e3/implicit-0.4.0.tar.gz (1.1MB)\n",
            "\r\u001b[K     |▎                               | 10kB 25.4MB/s eta 0:00:01\r\u001b[K     |▋                               | 20kB 5.8MB/s eta 0:00:01\r\u001b[K     |▉                               | 30kB 7.1MB/s eta 0:00:01\r\u001b[K     |█▏                              | 40kB 7.8MB/s eta 0:00:01\r\u001b[K     |█▌                              | 51kB 6.4MB/s eta 0:00:01\r\u001b[K     |█▊                              | 61kB 6.9MB/s eta 0:00:01\r\u001b[K     |██                              | 71kB 7.4MB/s eta 0:00:01\r\u001b[K     |██▍                             | 81kB 8.1MB/s eta 0:00:01\r\u001b[K     |██▋                             | 92kB 8.5MB/s eta 0:00:01\r\u001b[K     |███                             | 102kB 8.8MB/s eta 0:00:01\r\u001b[K     |███▎                            | 112kB 8.8MB/s eta 0:00:01\r\u001b[K     |███▌                            | 122kB 8.8MB/s eta 0:00:01\r\u001b[K     |███▉                            | 133kB 8.8MB/s eta 0:00:01\r\u001b[K     |████▏                           | 143kB 8.8MB/s eta 0:00:01\r\u001b[K     |████▍                           | 153kB 8.8MB/s eta 0:00:01\r\u001b[K     |████▊                           | 163kB 8.8MB/s eta 0:00:01\r\u001b[K     |█████                           | 174kB 8.8MB/s eta 0:00:01\r\u001b[K     |█████▎                          | 184kB 8.8MB/s eta 0:00:01\r\u001b[K     |█████▋                          | 194kB 8.8MB/s eta 0:00:01\r\u001b[K     |██████                          | 204kB 8.8MB/s eta 0:00:01\r\u001b[K     |██████▏                         | 215kB 8.8MB/s eta 0:00:01\r\u001b[K     |██████▌                         | 225kB 8.8MB/s eta 0:00:01\r\u001b[K     |██████▉                         | 235kB 8.8MB/s eta 0:00:01\r\u001b[K     |███████                         | 245kB 8.8MB/s eta 0:00:01\r\u001b[K     |███████▍                        | 256kB 8.8MB/s eta 0:00:01\r\u001b[K     |███████▊                        | 266kB 8.8MB/s eta 0:00:01\r\u001b[K     |████████                        | 276kB 8.8MB/s eta 0:00:01\r\u001b[K     |████████▎                       | 286kB 8.8MB/s eta 0:00:01\r\u001b[K     |████████▋                       | 296kB 8.8MB/s eta 0:00:01\r\u001b[K     |████████▉                       | 307kB 8.8MB/s eta 0:00:01\r\u001b[K     |█████████▏                      | 317kB 8.8MB/s eta 0:00:01\r\u001b[K     |█████████▌                      | 327kB 8.8MB/s eta 0:00:01\r\u001b[K     |█████████▊                      | 337kB 8.8MB/s eta 0:00:01\r\u001b[K     |██████████                      | 348kB 8.8MB/s eta 0:00:01\r\u001b[K     |██████████▍                     | 358kB 8.8MB/s eta 0:00:01\r\u001b[K     |██████████▋                     | 368kB 8.8MB/s eta 0:00:01\r\u001b[K     |███████████                     | 378kB 8.8MB/s eta 0:00:01\r\u001b[K     |███████████▎                    | 389kB 8.8MB/s eta 0:00:01\r\u001b[K     |███████████▌                    | 399kB 8.8MB/s eta 0:00:01\r\u001b[K     |███████████▉                    | 409kB 8.8MB/s eta 0:00:01\r\u001b[K     |████████████▏                   | 419kB 8.8MB/s eta 0:00:01\r\u001b[K     |████████████▍                   | 430kB 8.8MB/s eta 0:00:01\r\u001b[K     |████████████▊                   | 440kB 8.8MB/s eta 0:00:01\r\u001b[K     |█████████████                   | 450kB 8.8MB/s eta 0:00:01\r\u001b[K     |█████████████▎                  | 460kB 8.8MB/s eta 0:00:01\r\u001b[K     |█████████████▋                  | 471kB 8.8MB/s eta 0:00:01\r\u001b[K     |█████████████▉                  | 481kB 8.8MB/s eta 0:00:01\r\u001b[K     |██████████████▏                 | 491kB 8.8MB/s eta 0:00:01\r\u001b[K     |██████████████▌                 | 501kB 8.8MB/s eta 0:00:01\r\u001b[K     |██████████████▊                 | 512kB 8.8MB/s eta 0:00:01\r\u001b[K     |███████████████                 | 522kB 8.8MB/s eta 0:00:01\r\u001b[K     |███████████████▍                | 532kB 8.8MB/s eta 0:00:01\r\u001b[K     |███████████████▋                | 542kB 8.8MB/s eta 0:00:01\r\u001b[K     |████████████████                | 552kB 8.8MB/s eta 0:00:01\r\u001b[K     |████████████████▎               | 563kB 8.8MB/s eta 0:00:01\r\u001b[K     |████████████████▌               | 573kB 8.8MB/s eta 0:00:01\r\u001b[K     |████████████████▉               | 583kB 8.8MB/s eta 0:00:01\r\u001b[K     |█████████████████▏              | 593kB 8.8MB/s eta 0:00:01\r\u001b[K     |█████████████████▍              | 604kB 8.8MB/s eta 0:00:01\r\u001b[K     |█████████████████▊              | 614kB 8.8MB/s eta 0:00:01\r\u001b[K     |██████████████████              | 624kB 8.8MB/s eta 0:00:01\r\u001b[K     |██████████████████▎             | 634kB 8.8MB/s eta 0:00:01\r\u001b[K     |██████████████████▋             | 645kB 8.8MB/s eta 0:00:01\r\u001b[K     |███████████████████             | 655kB 8.8MB/s eta 0:00:01\r\u001b[K     |███████████████████▏            | 665kB 8.8MB/s eta 0:00:01\r\u001b[K     |███████████████████▌            | 675kB 8.8MB/s eta 0:00:01\r\u001b[K     |███████████████████▉            | 686kB 8.8MB/s eta 0:00:01\r\u001b[K     |████████████████████            | 696kB 8.8MB/s eta 0:00:01\r\u001b[K     |████████████████████▍           | 706kB 8.8MB/s eta 0:00:01\r\u001b[K     |████████████████████▊           | 716kB 8.8MB/s eta 0:00:01\r\u001b[K     |█████████████████████           | 727kB 8.8MB/s eta 0:00:01\r\u001b[K     |█████████████████████▎          | 737kB 8.8MB/s eta 0:00:01\r\u001b[K     |█████████████████████▋          | 747kB 8.8MB/s eta 0:00:01\r\u001b[K     |█████████████████████▉          | 757kB 8.8MB/s eta 0:00:01\r\u001b[K     |██████████████████████▏         | 768kB 8.8MB/s eta 0:00:01\r\u001b[K     |██████████████████████▌         | 778kB 8.8MB/s eta 0:00:01\r\u001b[K     |██████████████████████▊         | 788kB 8.8MB/s eta 0:00:01\r\u001b[K     |███████████████████████         | 798kB 8.8MB/s eta 0:00:01\r\u001b[K     |███████████████████████▍        | 808kB 8.8MB/s eta 0:00:01\r\u001b[K     |███████████████████████▋        | 819kB 8.8MB/s eta 0:00:01\r\u001b[K     |████████████████████████        | 829kB 8.8MB/s eta 0:00:01\r\u001b[K     |████████████████████████▎       | 839kB 8.8MB/s eta 0:00:01\r\u001b[K     |████████████████████████▌       | 849kB 8.8MB/s eta 0:00:01\r\u001b[K     |████████████████████████▉       | 860kB 8.8MB/s eta 0:00:01\r\u001b[K     |█████████████████████████▏      | 870kB 8.8MB/s eta 0:00:01\r\u001b[K     |█████████████████████████▍      | 880kB 8.8MB/s eta 0:00:01\r\u001b[K     |█████████████████████████▊      | 890kB 8.8MB/s eta 0:00:01\r\u001b[K     |██████████████████████████      | 901kB 8.8MB/s eta 0:00:01\r\u001b[K     |██████████████████████████▎     | 911kB 8.8MB/s eta 0:00:01\r\u001b[K     |██████████████████████████▋     | 921kB 8.8MB/s eta 0:00:01\r\u001b[K     |██████████████████████████▉     | 931kB 8.8MB/s eta 0:00:01\r\u001b[K     |███████████████████████████▏    | 942kB 8.8MB/s eta 0:00:01\r\u001b[K     |███████████████████████████▌    | 952kB 8.8MB/s eta 0:00:01\r\u001b[K     |███████████████████████████▊    | 962kB 8.8MB/s eta 0:00:01\r\u001b[K     |████████████████████████████    | 972kB 8.8MB/s eta 0:00:01\r\u001b[K     |████████████████████████████▍   | 983kB 8.8MB/s eta 0:00:01\r\u001b[K     |████████████████████████████▋   | 993kB 8.8MB/s eta 0:00:01\r\u001b[K     |█████████████████████████████   | 1.0MB 8.8MB/s eta 0:00:01\r\u001b[K     |█████████████████████████████▎  | 1.0MB 8.8MB/s eta 0:00:01\r\u001b[K     |█████████████████████████████▌  | 1.0MB 8.8MB/s eta 0:00:01\r\u001b[K     |█████████████████████████████▉  | 1.0MB 8.8MB/s eta 0:00:01\r\u001b[K     |██████████████████████████████▏ | 1.0MB 8.8MB/s eta 0:00:01\r\u001b[K     |██████████████████████████████▍ | 1.1MB 8.8MB/s eta 0:00:01\r\u001b[K     |██████████████████████████████▊ | 1.1MB 8.8MB/s eta 0:00:01\r\u001b[K     |███████████████████████████████ | 1.1MB 8.8MB/s eta 0:00:01\r\u001b[K     |███████████████████████████████▎| 1.1MB 8.8MB/s eta 0:00:01\r\u001b[K     |███████████████████████████████▋| 1.1MB 8.8MB/s eta 0:00:01\r\u001b[K     |████████████████████████████████| 1.1MB 8.8MB/s eta 0:00:01\r\u001b[K     |████████████████████████████████| 1.1MB 8.8MB/s \n",
            "\u001b[?25hRequirement already satisfied: numpy in /usr/local/lib/python3.6/dist-packages (from implicit==0.4.0) (1.18.5)\n",
            "Requirement already satisfied: scipy>=0.16 in /usr/local/lib/python3.6/dist-packages (from implicit==0.4.0) (1.4.1)\n",
            "Requirement already satisfied: tqdm>=4.27 in /usr/local/lib/python3.6/dist-packages (from implicit==0.4.0) (4.41.1)\n",
            "Building wheels for collected packages: implicit\n",
            "  Building wheel for implicit (setup.py) ... \u001b[?25l\u001b[?25hdone\n",
            "  Created wheel for implicit: filename=implicit-0.4.0-cp36-cp36m-linux_x86_64.whl size=3390316 sha256=03d766e53397adc0c7c9fc238d6f26b089c972fbafdaa219aa348d900c6ca3a2\n",
            "  Stored in directory: /root/.cache/pip/wheels/fd/d1/66/84e83191d9f626c521271023e4ef83e634e3b8c154f2c4b2da\n",
            "Successfully built implicit\n",
            "Installing collected packages: implicit\n",
            "Successfully installed implicit-0.4.0\n"
          ],
          "name": "stdout"
        }
      ]
    },
    {
      "cell_type": "code",
      "metadata": {
        "id": "WCtDKvguJBJ3",
        "colab_type": "code",
        "colab": {}
      },
      "source": [
        "from implicit.bpr import BayesianPersonalizedRanking as BPR\n",
        "from implicit.lmf import LogisticMatrixFactorization as LMF\n",
        "from scipy.sparse import csr_matrix, vstack\n",
        "from tqdm.auto import tqdm\n",
        "import numpy as np\n",
        "import pandas as pd"
      ],
      "execution_count": 2,
      "outputs": []
    },
    {
      "cell_type": "code",
      "metadata": {
        "id": "untMkv0k_p_9",
        "colab_type": "code",
        "colab": {}
      },
      "source": [
        "tr = pd.read_json(\"train.json\")\n",
        "te = pd.read_json(\"test.json\")\n",
        "\n",
        "tr_songs = tr.songs.tolist()\n",
        "te_songs = te.songs.tolist()\n",
        "tr_tags = tr.tags.tolist()\n",
        "te_tags = te.tags.tolist()\n",
        "te_ids = te.id.tolist()"
      ],
      "execution_count": 8,
      "outputs": []
    },
    {
      "cell_type": "markdown",
      "metadata": {
        "id": "aV9RYGcc5NGM",
        "colab_type": "text"
      },
      "source": [
        "## songs sparse matrix"
      ]
    },
    {
      "cell_type": "code",
      "metadata": {
        "id": "XapV2clx_p4O",
        "colab_type": "code",
        "colab": {}
      },
      "source": [
        "tr = []\n",
        "iid_to_idx = {}\n",
        "tag_to_idx = {} \n",
        "idx = 0\n",
        "\n",
        "for i, l in enumerate(tr_songs):\n",
        "    view = l\n",
        "    for item_id in view:\n",
        "        if item_id not in iid_to_idx:\n",
        "            iid_to_idx[item_id] = idx\n",
        "            idx += 1\n",
        "    view = [iid_to_idx[x] for x in view]\n",
        "    tr.append(view)\n",
        "\n",
        "n_items = len(iid_to_idx)\n",
        "\n",
        "idx_to_iid = {x:y for(y,x) in iid_to_idx.items()}\n",
        "\n",
        "te = []\n",
        "\n",
        "idx = 0\n",
        "for i, l in enumerate(te_songs):\n",
        "    view = l\n",
        "    ret = [] \n",
        "    for item_id in view:\n",
        "        if item_id not in iid_to_idx:\n",
        "            continue\n",
        "        ret.append(iid_to_idx[item_id])\n",
        "    te.append(ret)"
      ],
      "execution_count": 9,
      "outputs": []
    },
    {
      "cell_type": "code",
      "metadata": {
        "id": "zCiwRE2q_pwL",
        "colab_type": "code",
        "colab": {
          "base_uri": "https://localhost:8080/",
          "height": 115,
          "referenced_widgets": [
            "3baecddc54e44ccea6d3f6eda3b90fc3",
            "450bb63f41fb47b8a533f332c194edba",
            "3cf71c59c3974c4bbe9a693d67540dd2",
            "bf01a88a33e64eeab0c2c35cacc4f72d",
            "35e911d67e18499caea78fc4a5108e07",
            "3480dd5386484e0facf38e5a912f9886",
            "2e95ebca256543e6b50229fca6ca6037",
            "a45af486633646ea8da19fc10d146ccf",
            "08288b97edb54927b19eb8322a8c4201",
            "7ec886eec6524159a5da4f747e706dc1",
            "a5b8bd9c4dc14ec0b4419e8c07ef39f9",
            "4337ef661cb548749e782d7b15dec06b",
            "dd8b7b30a92f4d66be25b38046ffee74",
            "32333a8678924db6962937758e432dd6",
            "4bcc43e91f994767b216f236d57d96d7",
            "accd1123fea14f2a8b7efd42ab16cfb9"
          ]
        },
        "outputId": "d2df88bd-445c-432f-e7cd-744792d6ef7e"
      },
      "source": [
        "rows = np.repeat(0,len(tr[0]))\n",
        "cols = tr[0]\n",
        "vals = np.repeat(1,len(tr[0]))\n",
        "tr_csr = csr_matrix((vals, (rows, cols)),[1, n_items]) # train 데이터의 첫 row를 csr_matrix화\n",
        "\n",
        "for i in tqdm(range(1, len(tr))): # train 데이터를 stack을 쌓는 방식으로 csr_matrix화\n",
        "    rows = np.repeat(0,len(tr[i]))\n",
        "    cols = tr[i]\n",
        "    vals = np.repeat(1,len(tr[i]))\n",
        "    new_csr = csr_matrix((vals, (rows, cols)),[1, n_items])\n",
        "    tr_csr = vstack([tr_csr, new_csr])\n",
        "\n",
        "\n",
        "rows = np.repeat(0,len(te[0]))\n",
        "cols = te[0]\n",
        "vals = np.repeat(1,len(te[0]))\n",
        "te_csr = csr_matrix((vals, (rows, cols)),[1, n_items]) # test(validation) 데이터의 첫 row를 csr_matrix화\n",
        "\n",
        "for i in tqdm(range(1, len(te))): # test(validation) 데이터를 stack을 쌓는 방식으로 csr_matrix화\n",
        "    rows = np.repeat(0,len(te[i]))\n",
        "    cols = te[i]\n",
        "    vals = np.repeat(1,len(te[i]))\n",
        "    new_csr = csr_matrix((vals, (rows, cols)),[1, n_items])\n",
        "    te_csr = vstack([te_csr, new_csr]) \n",
        "\n",
        "r = vstack([te_csr, tr_csr]).tocoo() # test, train 데이터를 병합하고 coo_matrix로 변환"
      ],
      "execution_count": 10,
      "outputs": [
        {
          "output_type": "display_data",
          "data": {
            "application/vnd.jupyter.widget-view+json": {
              "model_id": "3baecddc54e44ccea6d3f6eda3b90fc3",
              "version_minor": 0,
              "version_major": 2
            },
            "text/plain": [
              "HBox(children=(FloatProgress(value=0.0, max=115070.0), HTML(value='')))"
            ]
          },
          "metadata": {
            "tags": []
          }
        },
        {
          "output_type": "stream",
          "text": [
            "\n"
          ],
          "name": "stdout"
        },
        {
          "output_type": "display_data",
          "data": {
            "application/vnd.jupyter.widget-view+json": {
              "model_id": "08288b97edb54927b19eb8322a8c4201",
              "version_minor": 0,
              "version_major": 2
            },
            "text/plain": [
              "HBox(children=(FloatProgress(value=0.0, max=10739.0), HTML(value='')))"
            ]
          },
          "metadata": {
            "tags": []
          }
        },
        {
          "output_type": "stream",
          "text": [
            "\n"
          ],
          "name": "stdout"
        }
      ]
    },
    {
      "cell_type": "code",
      "metadata": {
        "id": "9E6lUHlxA19b",
        "colab_type": "code",
        "colab": {}
      },
      "source": [
        "def unique_item(array1, array2): # array1에 있는 원소들 중 array2에도 있는 것들을 제거하는 함수\n",
        "    array1 = list(array1)\n",
        "    for x in array1:\n",
        "        if x in array2:\n",
        "            array1.remove(x)\n",
        "    return array1"
      ],
      "execution_count": 12,
      "outputs": []
    },
    {
      "cell_type": "markdown",
      "metadata": {
        "id": "U-f6QK5Di-m4",
        "colab_type": "text"
      },
      "source": [
        "## Bayesian Personalized Ranking Model for songs"
      ]
    },
    {
      "cell_type": "code",
      "metadata": {
        "id": "kHhHXWEKKsqu",
        "colab_type": "code",
        "colab": {}
      },
      "source": [
        "model = BPR(factors = 400, regularization = 0.2)\n",
        "model.fit(r.T, show_progress = True)\n",
        "\n",
        "item_result = []"
      ],
      "execution_count": null,
      "outputs": []
    },
    {
      "cell_type": "code",
      "metadata": {
        "id": "8OLQz7iGHmpU",
        "colab_type": "code",
        "colab": {
          "base_uri": "https://localhost:8080/",
          "height": 115,
          "referenced_widgets": [
            "64881498b5e44bc5ab4f6ba6d7995bb2",
            "01ff11681733414da561ee0f1dbd849b",
            "44bdb4ef48ed4072a031b8a7d520070b",
            "08519612b8fc46d48837825d8d468316",
            "fe4c77c7e42a45019e81a68dd0843d99",
            "c8fa328076ab4fc78b0fc9aae33b6b67",
            "956be6ce9841450fa2452d7304cc13e8",
            "e534f946d3e6434f89cea93dcabcb81c"
          ]
        },
        "outputId": "c71a2abc-7133-4692-81d8-68eb65917747"
      },
      "source": [
        "for u in tqdm(range(te_csr.shape[0])):\n",
        "    item_recommend = model.recommend(u, tr_csr, N = 200)\n",
        "    item_recommend = [x[0] for x in item_recommend]\n",
        "    item_recommend = unique_item(item_recommend, te[u])\n",
        "    item_recommend = [idx_to_iid[x] for x in item_recommend][:100]\n",
        "    item_result.append(item_recommend)"
      ],
      "execution_count": null,
      "outputs": [
        {
          "output_type": "display_data",
          "data": {
            "application/vnd.jupyter.widget-view+json": {
              "model_id": "64881498b5e44bc5ab4f6ba6d7995bb2",
              "version_minor": 0,
              "version_major": 2
            },
            "text/plain": [
              "HBox(children=(FloatProgress(value=0.0, max=23015.0), HTML(value='')))"
            ]
          },
          "metadata": {
            "tags": []
          }
        },
        {
          "output_type": "display_data",
          "data": {
            "application/vnd.jupyter.widget-view+json": {
              "model_id": "64881498b5e44bc5ab4f6ba6d7995bb2",
              "version_minor": 0,
              "version_major": 2
            },
            "text/plain": [
              "HBox(children=(FloatProgress(value=0.0, max=23015.0), HTML(value='')))"
            ]
          },
          "metadata": {
            "tags": []
          }
        },
        {
          "output_type": "stream",
          "text": [
            "\n",
            "\n"
          ],
          "name": "stdout"
        }
      ]
    },
    {
      "cell_type": "code",
      "metadata": {
        "id": "p1JjYRTe9_vT",
        "colab_type": "code",
        "colab": {
          "base_uri": "https://localhost:8080/",
          "height": 51
        },
        "outputId": "b499f94b-9db6-4c3b-8eee-ef169f1776b8"
      },
      "source": [
        "print(type(item_result), len(item_result))"
      ],
      "execution_count": null,
      "outputs": [
        {
          "output_type": "stream",
          "text": [
            "<class 'list'> 23015\n",
            "<class 'list'> 23015\n"
          ],
          "name": "stdout"
        }
      ]
    },
    {
      "cell_type": "code",
      "metadata": {
        "id": "1S-jiqLU-l8r",
        "colab_type": "code",
        "colab": {
          "base_uri": "https://localhost:8080/",
          "height": 34
        },
        "outputId": "5c715e41-f852-4f2c-9bd7-f726026d7abf"
      },
      "source": [
        "np.array(item_result).shape"
      ],
      "execution_count": null,
      "outputs": [
        {
          "output_type": "execute_result",
          "data": {
            "text/plain": [
              "(23015, 100)"
            ]
          },
          "metadata": {
            "tags": []
          },
          "execution_count": 10
        },
        {
          "output_type": "execute_result",
          "data": {
            "text/plain": [
              "(23015, 100)"
            ]
          },
          "metadata": {
            "tags": []
          },
          "execution_count": 10
        }
      ]
    },
    {
      "cell_type": "markdown",
      "metadata": {
        "id": "HeVMplYJ5FMO",
        "colab_type": "text"
      },
      "source": [
        "## tags도 똑같이 해본다.\n"
      ]
    },
    {
      "cell_type": "code",
      "metadata": {
        "id": "m-W2jUDZBTOJ",
        "colab_type": "code",
        "colab": {}
      },
      "source": [
        "tr = []\n",
        "iid_to_idx = {}\n",
        "tag_to_idx = {} \n",
        "idx = 0\n",
        "\n",
        "for i, l in enumerate(tr_tags):\n",
        "    view = l\n",
        "    for item_id in view:\n",
        "        if item_id not in iid_to_idx:\n",
        "            iid_to_idx[item_id] = idx\n",
        "            idx += 1\n",
        "    view = [iid_to_idx[x] for x in view]\n",
        "    tr.append(view)\n",
        "\n",
        "n_items = len(iid_to_idx)\n",
        "\n",
        "idx_to_iid = {x:y for(y,x) in iid_to_idx.items()}\n",
        "\n",
        "te = []\n",
        "\n",
        "idx = 0\n",
        "for i, l in enumerate(te_tags):\n",
        "    view = l\n",
        "    ret = [] \n",
        "    for item_id in view:\n",
        "        if item_id not in iid_to_idx:\n",
        "            continue\n",
        "        ret.append(iid_to_idx[item_id])\n",
        "    te.append(ret)"
      ],
      "execution_count": null,
      "outputs": []
    },
    {
      "cell_type": "code",
      "metadata": {
        "id": "wNkQdqMoBih0",
        "colab_type": "code",
        "colab": {
          "base_uri": "https://localhost:8080/",
          "height": 213,
          "referenced_widgets": [
            "19e7b9448614469fbaf7e78895dcde5c",
            "33450e585fb6467098c264302d55e64b",
            "da0d5c4bd118414ebaff9dc686d070b7",
            "bf42eecf9b8449d1a842cf2e77c1cdb5",
            "b2f7cf85e3584be9a7f57b6919e1a51f",
            "9d1bac14f9a745ac9871ef5dd67c7843",
            "153d07e4136c474d83dcb6fdb07a83cb",
            "0b694042d7fd4c72b505573898c1ca44",
            "4dbb4811238448ca9de13a79a5292c8d",
            "eeecfbc536d04fefb9b3bf25c92b8976",
            "0afd57003a414b3ab43dee3b021b94e2",
            "e8258cb8333e4c28901db938884dfc93",
            "10d7adf3b4d14feb951294bf616e86c6",
            "d20851bf8fe34349a3d545fdde450e0a",
            "9a3c62a2bbe543a8bb8b365f640a6a9b",
            "74b34f639bf3449bb348f7e85a4266bf"
          ]
        },
        "outputId": "5d7487b9-9b07-4e09-d454-84d6e1f503e3"
      },
      "source": [
        "rows = np.repeat(0,len(tr[0]))\n",
        "cols = tr[0]\n",
        "vals = np.repeat(1,len(tr[0]))\n",
        "tr_csr = csr_matrix((vals, (rows, cols)),[1, n_items]) # train 데이터의 첫 row를 csr_matrix화\n",
        "\n",
        "for i in tqdm(range(1, len(tr))): # train 데이터를 stack을 쌓는 방식으로 csr_matrix화\n",
        "    rows = np.repeat(0,len(tr[i]))\n",
        "    cols = tr[i]\n",
        "    vals = np.repeat(1,len(tr[i]))\n",
        "    new_csr = csr_matrix((vals, (rows, cols)),[1, n_items])\n",
        "    tr_csr = vstack([tr_csr, new_csr])\n",
        "\n",
        "\n",
        "rows = np.repeat(0,len(te[0]))\n",
        "cols = te[0]\n",
        "vals = np.repeat(1,len(te[0]))\n",
        "te_csr = csr_matrix((vals, (rows, cols)),[1, n_items]) # test(validation) 데이터의 첫 row를 csr_matrix화\n",
        "\n",
        "for i in tqdm(range(1, len(te))): # test(validation) 데이터를 stack을 쌓는 방식으로 csr_matrix화\n",
        "    rows = np.repeat(0,len(te[i]))\n",
        "    cols = te[i]\n",
        "    vals = np.repeat(1,len(te[i]))\n",
        "    new_csr = csr_matrix((vals, (rows, cols)),[1, n_items])\n",
        "    te_csr = vstack([te_csr, new_csr]) \n",
        "\n",
        "r = vstack([te_csr, tr_csr]).tocoo() # test, train 데이터를 병합하고 coo_matrix로 변환"
      ],
      "execution_count": null,
      "outputs": [
        {
          "output_type": "display_data",
          "data": {
            "application/vnd.jupyter.widget-view+json": {
              "model_id": "19e7b9448614469fbaf7e78895dcde5c",
              "version_minor": 0,
              "version_major": 2
            },
            "text/plain": [
              "HBox(children=(FloatProgress(value=0.0, max=115070.0), HTML(value='')))"
            ]
          },
          "metadata": {
            "tags": []
          }
        },
        {
          "output_type": "display_data",
          "data": {
            "application/vnd.jupyter.widget-view+json": {
              "model_id": "19e7b9448614469fbaf7e78895dcde5c",
              "version_minor": 0,
              "version_major": 2
            },
            "text/plain": [
              "HBox(children=(FloatProgress(value=0.0, max=115070.0), HTML(value='')))"
            ]
          },
          "metadata": {
            "tags": []
          }
        },
        {
          "output_type": "stream",
          "text": [
            "\n",
            "\n"
          ],
          "name": "stdout"
        },
        {
          "output_type": "display_data",
          "data": {
            "application/vnd.jupyter.widget-view+json": {
              "model_id": "4dbb4811238448ca9de13a79a5292c8d",
              "version_minor": 0,
              "version_major": 2
            },
            "text/plain": [
              "HBox(children=(FloatProgress(value=0.0, max=23014.0), HTML(value='')))"
            ]
          },
          "metadata": {
            "tags": []
          }
        },
        {
          "output_type": "display_data",
          "data": {
            "application/vnd.jupyter.widget-view+json": {
              "model_id": "4dbb4811238448ca9de13a79a5292c8d",
              "version_minor": 0,
              "version_major": 2
            },
            "text/plain": [
              "HBox(children=(FloatProgress(value=0.0, max=23014.0), HTML(value='')))"
            ]
          },
          "metadata": {
            "tags": []
          }
        },
        {
          "output_type": "stream",
          "text": [
            "\n",
            "\n"
          ],
          "name": "stdout"
        }
      ]
    },
    {
      "cell_type": "markdown",
      "metadata": {
        "id": "bAevBnNYivId",
        "colab_type": "text"
      },
      "source": [
        "## Bayesian Personalized Ranking Model for tag"
      ]
    },
    {
      "cell_type": "code",
      "metadata": {
        "id": "c6I10eVrCPuB",
        "colab_type": "code",
        "colab": {
          "base_uri": "https://localhost:8080/",
          "height": 115,
          "referenced_widgets": [
            "a5e94149e76643d6bb47a929c441b676",
            "46fbf57231264431877103312a85e06f",
            "df9e9f260e5e4fa0a2229a4845d9b72b",
            "ef3776011b9446979ef6a3991dbcee89",
            "28c85ce264e14db5b096da0029945f23",
            "4e8361ed08084662a776668c7f6e83d0",
            "eee4937efe66489c8efb003911ae1b19",
            "ecd31fa0478e482b8d0493bf9a221416"
          ]
        },
        "outputId": "91d7c541-07f9-47cc-8e26-6b077767a93c"
      },
      "source": [
        "model = BPR(factors = 256, regularization = 0.01)\n",
        "model.fit(r.T, show_progress = True)\n",
        "\n",
        "tag_result = []"
      ],
      "execution_count": null,
      "outputs": [
        {
          "output_type": "display_data",
          "data": {
            "application/vnd.jupyter.widget-view+json": {
              "model_id": "a5e94149e76643d6bb47a929c441b676",
              "version_minor": 0,
              "version_major": 2
            },
            "text/plain": [
              "HBox(children=(FloatProgress(value=0.0), HTML(value='')))"
            ]
          },
          "metadata": {
            "tags": []
          }
        },
        {
          "output_type": "display_data",
          "data": {
            "application/vnd.jupyter.widget-view+json": {
              "model_id": "a5e94149e76643d6bb47a929c441b676",
              "version_minor": 0,
              "version_major": 2
            },
            "text/plain": [
              "HBox(children=(FloatProgress(value=0.0), HTML(value='')))"
            ]
          },
          "metadata": {
            "tags": []
          }
        },
        {
          "output_type": "stream",
          "text": [
            "\n",
            "\n"
          ],
          "name": "stdout"
        }
      ]
    },
    {
      "cell_type": "code",
      "metadata": {
        "id": "HOVPxDO4CbAb",
        "colab_type": "code",
        "colab": {
          "base_uri": "https://localhost:8080/",
          "height": 115,
          "referenced_widgets": [
            "5a272cb7899f4d46bdb3a134f8918a9d",
            "29259f83b6c444ef840d2de9e7829c86",
            "4ca8853d086f46a8b4b5b4320d1f7bb4",
            "adbc1c4f6c924a88bc6657a83680a155",
            "06c51ee20a274f998381ee892f9c5394",
            "49fe55b74a7745a5b3083fc371a693a5",
            "c290070f3de8405aba2f4792bd3f5963",
            "3ec86b24bc284c64916bab7f623bb981"
          ]
        },
        "outputId": "1081aad3-522a-4e9d-d823-0aab0bb51fca"
      },
      "source": [
        "for u in tqdm(range(te_csr.shape[0])):\n",
        "    tag_recommend = model.recommend(u, tr_csr, N = 200)\n",
        "    tag_recommend = [x[0] for x in tag_recommend]\n",
        "    tag_recommend = unique_item(tag_recommend, te[u])\n",
        "    tag_recommend = [idx_to_iid[x] for x in tag_recommend][:10]\n",
        "    tag_result.append(tag_recommend)"
      ],
      "execution_count": null,
      "outputs": [
        {
          "output_type": "display_data",
          "data": {
            "application/vnd.jupyter.widget-view+json": {
              "model_id": "5a272cb7899f4d46bdb3a134f8918a9d",
              "version_minor": 0,
              "version_major": 2
            },
            "text/plain": [
              "HBox(children=(FloatProgress(value=0.0, max=23015.0), HTML(value='')))"
            ]
          },
          "metadata": {
            "tags": []
          }
        },
        {
          "output_type": "display_data",
          "data": {
            "application/vnd.jupyter.widget-view+json": {
              "model_id": "5a272cb7899f4d46bdb3a134f8918a9d",
              "version_minor": 0,
              "version_major": 2
            },
            "text/plain": [
              "HBox(children=(FloatProgress(value=0.0, max=23015.0), HTML(value='')))"
            ]
          },
          "metadata": {
            "tags": []
          }
        },
        {
          "output_type": "stream",
          "text": [
            "\n",
            "\n"
          ],
          "name": "stdout"
        }
      ]
    },
    {
      "cell_type": "code",
      "metadata": {
        "id": "xmwm48k4CwTP",
        "colab_type": "code",
        "colab": {}
      },
      "source": [
        "print(type(tag_result), len(tag_result))"
      ],
      "execution_count": null,
      "outputs": []
    },
    {
      "cell_type": "code",
      "metadata": {
        "id": "-pxj6KJFC4U_",
        "colab_type": "code",
        "colab": {
          "base_uri": "https://localhost:8080/",
          "height": 34
        },
        "outputId": "432eeac3-e1e4-42dd-b533-9b1185d09471"
      },
      "source": [
        "np.array(tag_result).shape"
      ],
      "execution_count": null,
      "outputs": [
        {
          "output_type": "execute_result",
          "data": {
            "text/plain": [
              "(23015, 10)"
            ]
          },
          "metadata": {
            "tags": []
          },
          "execution_count": 17
        }
      ]
    },
    {
      "cell_type": "code",
      "metadata": {
        "id": "4g8XcKsoDPDF",
        "colab_type": "code",
        "colab": {}
      },
      "source": [
        "returnval = []\n",
        "for _id, rec, tag_rec in tqdm(zip(te_ids, item_result, tag_result)):\n",
        "    returnval.append({\n",
        "        \"id\": _id,\n",
        "        \"songs\": rec[:100],\n",
        "        \"tags\": tag_rec[:10]\n",
        "    })"
      ],
      "execution_count": null,
      "outputs": []
    },
    {
      "cell_type": "code",
      "metadata": {
        "id": "QWySstCUD5ii",
        "colab_type": "code",
        "colab": {}
      },
      "source": [
        "import json\n",
        "with open('ret.json', 'w', encoding='utf-8') as f:\n",
        "    f.write(json.dumps(returnval, ensure_ascii=False))"
      ],
      "execution_count": null,
      "outputs": []
    },
    {
      "cell_type": "markdown",
      "metadata": {
        "id": "qtpL_lA8BTkQ",
        "colab_type": "text"
      },
      "source": [
        "## Logistic Matrix Factorization model for songs"
      ]
    },
    {
      "cell_type": "code",
      "metadata": {
        "id": "UfIst_C4HmeO",
        "colab_type": "code",
        "colab": {
          "base_uri": "https://localhost:8080/",
          "height": 83,
          "referenced_widgets": [
            "09eff3ccf9554b3a9a75f42017b56c22",
            "fb605c782e38449692357790f9f2e57a",
            "3e2faf8fb448448ca371fe7b3f60dd7e",
            "b39d1a74fc3b457d8b9f30d7a770223e",
            "cf5228fcbe3c4fb6835e746ceed7c470",
            "a6683160dea04308b5efd04614938fa8",
            "37a2982253dc454f93eaaaa53015e568",
            "9b2a39997e744ef3b59ebf390cce7a17"
          ]
        },
        "outputId": "490453af-3fcf-4da9-9a31-89e713643304"
      },
      "source": [
        "\n",
        "from implicit.lmf import LogisticMatrixFactorization as LMF\n",
        "model_logit = LMF(factors = 50, regularization = 0.1, iterations = 50)\n",
        "model_logit.fit(r.T, show_progress = True)\n",
        "\n",
        "item_result_logit = []\n",
        "\n",
        "for u in tqdm(range(te_csr.shape[0])):\n",
        "    item_recommend = model_logit.recommend(u, tr_csr, N = 200)\n",
        "    item_recommend = [x[0] for x in item_recommend]\n",
        "    item_recommend = unique_item(item_recommend, te[u])\n",
        "    item_recommend = [idx_to_iid[x] for x in item_recommend][:100]\n",
        "    item_result_logit.append(item_recommend)\n"
      ],
      "execution_count": 13,
      "outputs": [
        {
          "output_type": "stream",
          "text": [
            "100%|██████████| 50/50 [06:13<00:00,  7.47s/it]\n"
          ],
          "name": "stderr"
        },
        {
          "output_type": "display_data",
          "data": {
            "application/vnd.jupyter.widget-view+json": {
              "model_id": "09eff3ccf9554b3a9a75f42017b56c22",
              "version_minor": 0,
              "version_major": 2
            },
            "text/plain": [
              "HBox(children=(FloatProgress(value=0.0, max=10740.0), HTML(value='')))"
            ]
          },
          "metadata": {
            "tags": []
          }
        },
        {
          "output_type": "stream",
          "text": [
            "\n"
          ],
          "name": "stdout"
        }
      ]
    },
    {
      "cell_type": "code",
      "metadata": {
        "id": "FuupE05WHlw7",
        "colab_type": "code",
        "colab": {}
      },
      "source": [
        "tr = []\n",
        "iid_to_idx = {}\n",
        "tag_to_idx = {} \n",
        "idx = 0\n",
        "\n",
        "for i, l in enumerate(tr_tags):\n",
        "    view = l\n",
        "    for item_id in view:\n",
        "        if item_id not in iid_to_idx:\n",
        "            iid_to_idx[item_id] = idx\n",
        "            idx += 1\n",
        "    view = [iid_to_idx[x] for x in view]\n",
        "    tr.append(view)\n",
        "\n",
        "n_items = len(iid_to_idx)\n",
        "\n",
        "idx_to_iid = {x:y for(y,x) in iid_to_idx.items()}\n",
        "\n",
        "te = []\n",
        "\n",
        "idx = 0\n",
        "for i, l in enumerate(te_tags):\n",
        "    view = l\n",
        "    ret = [] \n",
        "    for item_id in view:\n",
        "        if item_id not in iid_to_idx:\n",
        "            continue\n",
        "        ret.append(iid_to_idx[item_id])\n",
        "    te.append(ret)"
      ],
      "execution_count": 14,
      "outputs": []
    },
    {
      "cell_type": "code",
      "metadata": {
        "id": "3pOV5omYjMkg",
        "colab_type": "code",
        "colab": {
          "base_uri": "https://localhost:8080/",
          "height": 115,
          "referenced_widgets": [
            "d442a862c89a4422a8234d559c53fdca",
            "90e992ec8c7940bc9ac6bfde1f24bcff",
            "1aa130162c074c12a480d8f6c2f2aae5",
            "cbfc15dd57824711b1a48129d87c7257",
            "c4f9e2f4c8744aaa8f78d9d969887e52",
            "9626ae3eb1334355ad52db94f707aa61",
            "c8c5abde972943948b316ef81c9df18b",
            "be25c721563e49dbbfcd1cf650ed945f",
            "5135af17ceaa45a2877772fba5af962b",
            "d915c8f673954edb955009d073f3742f",
            "502ff603a3c94600a28ec588bf88cc01",
            "b8f28186163b4da89f8f21a057fb70ce",
            "c49024cc6f1d4486bb1c01dec707af0a",
            "61d15781b26c40c5862df8bc642084aa",
            "7074c52e18054c799b8a04c1c83495b8",
            "457ab7cf8d41474cafe3957cb610f001"
          ]
        },
        "outputId": "dd9d7a09-c581-42d9-a2e4-f5b5b5b3a52d"
      },
      "source": [
        "rows = np.repeat(0,len(tr[0]))\n",
        "cols = tr[0]\n",
        "vals = np.repeat(1,len(tr[0]))\n",
        "tr_csr = csr_matrix((vals, (rows, cols)),[1, n_items]) # train 데이터의 첫 row를 csr_matrix화\n",
        "\n",
        "for i in tqdm(range(1, len(tr))): # train 데이터를 stack을 쌓는 방식으로 csr_matrix화\n",
        "    rows = np.repeat(0,len(tr[i]))\n",
        "    cols = tr[i]\n",
        "    vals = np.repeat(1,len(tr[i]))\n",
        "    new_csr = csr_matrix((vals, (rows, cols)),[1, n_items])\n",
        "    tr_csr = vstack([tr_csr, new_csr])\n",
        "\n",
        "\n",
        "rows = np.repeat(0,len(te[0]))\n",
        "cols = te[0]\n",
        "vals = np.repeat(1,len(te[0]))\n",
        "te_csr = csr_matrix((vals, (rows, cols)),[1, n_items]) # test(validation) 데이터의 첫 row를 csr_matrix화\n",
        "\n",
        "for i in tqdm(range(1, len(te))): # test(validation) 데이터를 stack을 쌓는 방식으로 csr_matrix화\n",
        "    rows = np.repeat(0,len(te[i]))\n",
        "    cols = te[i]\n",
        "    vals = np.repeat(1,len(te[i]))\n",
        "    new_csr = csr_matrix((vals, (rows, cols)),[1, n_items])\n",
        "    te_csr = vstack([te_csr, new_csr]) \n",
        "\n",
        "r = vstack([te_csr, tr_csr]).tocoo() # test, train 데이터를 병합하고 coo_matrix로 변환"
      ],
      "execution_count": 15,
      "outputs": [
        {
          "output_type": "display_data",
          "data": {
            "application/vnd.jupyter.widget-view+json": {
              "model_id": "d442a862c89a4422a8234d559c53fdca",
              "version_minor": 0,
              "version_major": 2
            },
            "text/plain": [
              "HBox(children=(FloatProgress(value=0.0, max=115070.0), HTML(value='')))"
            ]
          },
          "metadata": {
            "tags": []
          }
        },
        {
          "output_type": "stream",
          "text": [
            "\n"
          ],
          "name": "stdout"
        },
        {
          "output_type": "display_data",
          "data": {
            "application/vnd.jupyter.widget-view+json": {
              "model_id": "5135af17ceaa45a2877772fba5af962b",
              "version_minor": 0,
              "version_major": 2
            },
            "text/plain": [
              "HBox(children=(FloatProgress(value=0.0, max=10739.0), HTML(value='')))"
            ]
          },
          "metadata": {
            "tags": []
          }
        },
        {
          "output_type": "stream",
          "text": [
            "\n"
          ],
          "name": "stdout"
        }
      ]
    },
    {
      "cell_type": "markdown",
      "metadata": {
        "id": "eAhMlAX1jiEP",
        "colab_type": "text"
      },
      "source": [
        "## Logistic Matrix Factorization model for tags"
      ]
    },
    {
      "cell_type": "code",
      "metadata": {
        "id": "4W0mBccrjMiz",
        "colab_type": "code",
        "colab": {
          "base_uri": "https://localhost:8080/",
          "height": 34
        },
        "outputId": "4e112512-4287-49bc-80d0-f711601d67b0"
      },
      "source": [
        "model = LMF(factors = 50, regularization = 0.1, iterations = 40)\n",
        "model.fit(r.T, show_progress = True)\n",
        "\n",
        "tag_result = []"
      ],
      "execution_count": 16,
      "outputs": [
        {
          "output_type": "stream",
          "text": [
            "100%|██████████| 40/40 [00:40<00:00,  1.01s/it]\n"
          ],
          "name": "stderr"
        }
      ]
    },
    {
      "cell_type": "code",
      "metadata": {
        "id": "xcLDjiMnjMZ6",
        "colab_type": "code",
        "colab": {
          "base_uri": "https://localhost:8080/",
          "height": 66,
          "referenced_widgets": [
            "71a2a3237aab45ae8690f97800e37fc3",
            "799de7b4060b460a9768e2fc73afba46",
            "54a6e5df3d2c470d870f0f6afc3da77d",
            "b29caf1b8d3744ec83b27e9bc16cdcc7",
            "9cddfadbf445454388e60b2fa8a1ab6f",
            "93de643db36f4ab1a7d63ebcfea1666c",
            "70397804dd544c9484b5ffbd602ac034",
            "9f9cdb3896be4d919a876547a4456925"
          ]
        },
        "outputId": "3600e289-22bc-45e7-8b45-92f13efdee2b"
      },
      "source": [
        "for u in tqdm(range(te_csr.shape[0])):\n",
        "    tag_recommend = model.recommend(u, tr_csr, N = 200)\n",
        "    tag_recommend = [x[0] for x in tag_recommend]\n",
        "    tag_recommend = unique_item(tag_recommend, te[u])\n",
        "    tag_recommend = [idx_to_iid[x] for x in tag_recommend][:10]\n",
        "    tag_result.append(tag_recommend)"
      ],
      "execution_count": 17,
      "outputs": [
        {
          "output_type": "display_data",
          "data": {
            "application/vnd.jupyter.widget-view+json": {
              "model_id": "71a2a3237aab45ae8690f97800e37fc3",
              "version_minor": 0,
              "version_major": 2
            },
            "text/plain": [
              "HBox(children=(FloatProgress(value=0.0, max=10740.0), HTML(value='')))"
            ]
          },
          "metadata": {
            "tags": []
          }
        },
        {
          "output_type": "stream",
          "text": [
            "\n"
          ],
          "name": "stdout"
        }
      ]
    },
    {
      "cell_type": "code",
      "metadata": {
        "id": "D4_tgOTGjMRB",
        "colab_type": "code",
        "colab": {
          "base_uri": "https://localhost:8080/",
          "height": 66,
          "referenced_widgets": [
            "29acd45322354688aaaf78d82f4c9350",
            "39828136f35b43ff8928e59e7b198f73",
            "451eacfeb2f243c4a27c246f332cee3a",
            "6e38f14e533f4860ae3282adb105c63b",
            "8ae792b44f864c758eddcc442a2524d1",
            "03c1332189b54ee0b131a79eb4f6da7c",
            "5f567e8a8d314605829be27c71079f1b",
            "79f96867893b403c90046d46602b7e69"
          ]
        },
        "outputId": "c2bac169-ab9f-4714-e39a-83e5c5cc6788"
      },
      "source": [
        "returnval = []\n",
        "for _id, rec, tag_rec in tqdm(zip(te_ids, item_result_logit, tag_result)):\n",
        "    returnval.append({\n",
        "        \"id\": _id,\n",
        "        \"songs\": rec[:100],\n",
        "        \"tags\": tag_rec[:10]\n",
        "    })"
      ],
      "execution_count": 18,
      "outputs": [
        {
          "output_type": "display_data",
          "data": {
            "application/vnd.jupyter.widget-view+json": {
              "model_id": "29acd45322354688aaaf78d82f4c9350",
              "version_minor": 0,
              "version_major": 2
            },
            "text/plain": [
              "HBox(children=(FloatProgress(value=1.0, bar_style='info', max=1.0), HTML(value='')))"
            ]
          },
          "metadata": {
            "tags": []
          }
        },
        {
          "output_type": "stream",
          "text": [
            "\n"
          ],
          "name": "stdout"
        }
      ]
    },
    {
      "cell_type": "code",
      "metadata": {
        "id": "QBZUCOO9jMJk",
        "colab_type": "code",
        "colab": {}
      },
      "source": [
        "import json\n",
        "with open('result.json', 'w', encoding='utf-8') as f:\n",
        "    f.write(json.dumps(returnval, ensure_ascii=False))"
      ],
      "execution_count": 19,
      "outputs": []
    },
    {
      "cell_type": "code",
      "metadata": {
        "id": "jtNAG-_wXfTz",
        "colab_type": "code",
        "colab": {}
      },
      "source": [
        ""
      ],
      "execution_count": null,
      "outputs": []
    }
  ]
}